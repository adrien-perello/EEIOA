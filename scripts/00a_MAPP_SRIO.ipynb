{
 "cells": [
  {
   "cell_type": "code",
   "execution_count": 1,
   "metadata": {},
   "outputs": [],
   "source": [
    "from functools import reduce\n",
    "from operator import add\n",
    "\n",
    "import numpy as np\n",
    "import pandas as pd"
   ]
  },
  {
   "cell_type": "code",
   "execution_count": 2,
   "metadata": {},
   "outputs": [],
   "source": [
    "Z_with_import = False\n",
    "Y_with_import = False\n",
    "include_imports = True"
   ]
  },
  {
   "cell_type": "markdown",
   "metadata": {},
   "source": [
    "# SRIO"
   ]
  },
  {
   "cell_type": "markdown",
   "metadata": {},
   "source": [
    "## Z: Inter-industry transactions of intermediate products (unit: €/year)\n",
    "\n",
    "Intermediate products: goods and services as inputs in the production processes."
   ]
  },
  {
   "cell_type": "code",
   "execution_count": 3,
   "metadata": {},
   "outputs": [
    {
     "data": {
      "text/html": [
       "<div>\n",
       "<style scoped>\n",
       "    .dataframe tbody tr th:only-of-type {\n",
       "        vertical-align: middle;\n",
       "    }\n",
       "\n",
       "    .dataframe tbody tr th {\n",
       "        vertical-align: top;\n",
       "    }\n",
       "\n",
       "    .dataframe thead th {\n",
       "        text-align: right;\n",
       "    }\n",
       "</style>\n",
       "<table border=\"1\" class=\"dataframe\">\n",
       "  <thead>\n",
       "    <tr style=\"text-align: right;\">\n",
       "      <th></th>\n",
       "      <th>Agriculture</th>\n",
       "      <th>Industry</th>\n",
       "      <th>EHP</th>\n",
       "      <th>RoService</th>\n",
       "    </tr>\n",
       "  </thead>\n",
       "  <tbody>\n",
       "    <tr>\n",
       "      <th>Agriculture</th>\n",
       "      <td>1053</td>\n",
       "      <td>16373</td>\n",
       "      <td>170</td>\n",
       "      <td>787</td>\n",
       "    </tr>\n",
       "    <tr>\n",
       "      <th>Industry</th>\n",
       "      <td>3745</td>\n",
       "      <td>88955</td>\n",
       "      <td>11478</td>\n",
       "      <td>37202</td>\n",
       "    </tr>\n",
       "    <tr>\n",
       "      <th>EHP</th>\n",
       "      <td>194</td>\n",
       "      <td>2757</td>\n",
       "      <td>6868</td>\n",
       "      <td>7736</td>\n",
       "    </tr>\n",
       "    <tr>\n",
       "      <th>RoService</th>\n",
       "      <td>6580</td>\n",
       "      <td>83484</td>\n",
       "      <td>30315</td>\n",
       "      <td>194654</td>\n",
       "    </tr>\n",
       "  </tbody>\n",
       "</table>\n",
       "</div>"
      ],
      "text/plain": [
       "             Agriculture  Industry    EHP  RoService\n",
       "Agriculture         1053     16373    170        787\n",
       "Industry            3745     88955  11478      37202\n",
       "EHP                  194      2757   6868       7736\n",
       "RoService           6580     83484  30315     194654"
      ]
     },
     "execution_count": 3,
     "metadata": {},
     "output_type": "execute_result"
    }
   ],
   "source": [
    "# Z (unit: Million euro)\n",
    "Z_columns = [\n",
    "    'Agriculture',\n",
    "    'Industry',\n",
    "    'EHP',\n",
    "    'RoService'\n",
    "]\n",
    "\n",
    "Z_values_NL = [\n",
    "    [1053, 16373, 170, 787],\n",
    "    [3745, 88955, 11478, 37202],\n",
    "    [194, 2757, 6868, 7736],\n",
    "    [6580, 83484, 30315, 194654]\n",
    "]\n",
    "\n",
    "Z_values = Z_values_NL\n",
    "\n",
    "Z = pd.DataFrame(Z_values, index=Z_columns, columns=Z_columns)\n",
    "Z"
   ]
  },
  {
   "cell_type": "markdown",
   "metadata": {},
   "source": [
    "Q1: What does the value in cell C8 (3,0) tell you? (2 points)  \n",
    "\n",
    "In year 2019, Dutch Agriculture purchased 6580 milliion euros worth of RoService products for production.  \n",
    "//  \n",
    "The monetary transaction flow (in Million euro) supplied by the (domestic) \"Rest of Services\" sector and purchased by the (domestic) Agriculture sector "
   ]
  },
  {
   "cell_type": "markdown",
   "metadata": {},
   "source": [
    "## Y: Final demand (unit: €/year)"
   ]
  },
  {
   "cell_type": "code",
   "execution_count": 4,
   "metadata": {},
   "outputs": [
    {
     "data": {
      "text/html": [
       "<div>\n",
       "<style scoped>\n",
       "    .dataframe tbody tr th:only-of-type {\n",
       "        vertical-align: middle;\n",
       "    }\n",
       "\n",
       "    .dataframe tbody tr th {\n",
       "        vertical-align: top;\n",
       "    }\n",
       "\n",
       "    .dataframe thead th {\n",
       "        text-align: right;\n",
       "    }\n",
       "</style>\n",
       "<table border=\"1\" class=\"dataframe\">\n",
       "  <thead>\n",
       "    <tr style=\"text-align: right;\">\n",
       "      <th></th>\n",
       "      <th>Domestic</th>\n",
       "      <th>Export</th>\n",
       "    </tr>\n",
       "  </thead>\n",
       "  <tbody>\n",
       "    <tr>\n",
       "      <th>Agriculture</th>\n",
       "      <td>2257</td>\n",
       "      <td>12790</td>\n",
       "    </tr>\n",
       "    <tr>\n",
       "      <th>Industry</th>\n",
       "      <td>127940</td>\n",
       "      <td>224817</td>\n",
       "    </tr>\n",
       "    <tr>\n",
       "      <th>EHP</th>\n",
       "      <td>176644</td>\n",
       "      <td>8246</td>\n",
       "    </tr>\n",
       "    <tr>\n",
       "      <th>RoService</th>\n",
       "      <td>291297</td>\n",
       "      <td>162090</td>\n",
       "    </tr>\n",
       "  </tbody>\n",
       "</table>\n",
       "</div>"
      ],
      "text/plain": [
       "             Domestic  Export\n",
       "Agriculture      2257   12790\n",
       "Industry       127940  224817\n",
       "EHP            176644    8246\n",
       "RoService      291297  162090"
      ]
     },
     "execution_count": 4,
     "metadata": {},
     "output_type": "execute_result"
    }
   ],
   "source": [
    "# Y (unit: Million euro)\n",
    "Y_columns = ['Domestic', 'Export']\n",
    "\n",
    "Y_values_NL = [\n",
    "    [2257, 12790],\n",
    "    [127940, 224817],\n",
    "    [176644, 8246],\n",
    "    [291297, 162090],\n",
    "]\n",
    "\n",
    "Y_values = Y_values_NL\n",
    "\n",
    "Y = pd.DataFrame(Y_values, index=Z_columns, columns=Y_columns)\n",
    "Y"
   ]
  },
  {
   "cell_type": "code",
   "execution_count": 5,
   "metadata": {},
   "outputs": [
    {
     "data": {
      "text/plain": [
       "598138"
      ]
     },
     "execution_count": 5,
     "metadata": {},
     "output_type": "execute_result"
    }
   ],
   "source": [
    "tot_FD_Domestic = Y['Domestic'].sum()\n",
    "tot_FD_Domestic"
   ]
  },
  {
   "cell_type": "markdown",
   "metadata": {},
   "source": [
    "Q2: What does the column sum of FD_Domestic tell you? (2 points)  \n",
    "\n",
    "Dutch final consumption of domestic products in 2019 totaled 598138 million euros."
   ]
  },
  {
   "attachments": {},
   "cell_type": "markdown",
   "metadata": {},
   "source": [
    "## x: Gross output (unit: €/year)\n",
    "\n",
    "Gross output of Sector j: intermediate products + finished products of Sector j"
   ]
  },
  {
   "cell_type": "code",
   "execution_count": 6,
   "metadata": {},
   "outputs": [
    {
     "data": {
      "text/plain": [
       "Agriculture     33430\n",
       "Industry       494137\n",
       "EHP            202445\n",
       "RoService      768420\n",
       "dtype: int64"
      ]
     },
     "execution_count": 6,
     "metadata": {},
     "output_type": "execute_result"
    }
   ],
   "source": [
    "# x (unit: Million euro)\n",
    "x = Z.sum(axis=1) + Y.sum(axis=1)\n",
    "x"
   ]
  },
  {
   "cell_type": "markdown",
   "metadata": {},
   "source": [
    "## V: Value added (unit: €/year)\n",
    "\n",
    "- Economic gains generated by producing goods and services.\n",
    "- Main components: wages, taxes minus subsidies, capital profits, etc\n",
    "- v: value added pet unit per year\n",
    "- V: value added per year"
   ]
  },
  {
   "cell_type": "code",
   "execution_count": 7,
   "metadata": {},
   "outputs": [
    {
     "data": {
      "text/plain": [
       "Agriculture    0.472\n",
       "Industry       0.361\n",
       "EHP            0.691\n",
       "RoService      0.620\n",
       "dtype: float64"
      ]
     },
     "execution_count": 7,
     "metadata": {},
     "output_type": "execute_result"
    }
   ],
   "source": [
    "# v (Unit: Million euro/Million euro)\n",
    "v_values_NL = [0.472, 0.361, 0.691, 0.62]\n",
    "\n",
    "v_values = v_values_NL\n",
    "\n",
    "v = pd.Series(v_values, index=Z_columns)\n",
    "v"
   ]
  },
  {
   "cell_type": "code",
   "execution_count": 8,
   "metadata": {},
   "outputs": [
    {
     "data": {
      "text/plain": [
       "Agriculture     15778.960\n",
       "Industry       178383.457\n",
       "EHP            139889.495\n",
       "RoService      476420.400\n",
       "dtype: float64"
      ]
     },
     "execution_count": 8,
     "metadata": {},
     "output_type": "execute_result"
    }
   ],
   "source": [
    "# V (Unit: Million euro)\n",
    "# method 1\n",
    "V = x.mul(v)\n",
    "V"
   ]
  },
  {
   "cell_type": "code",
   "execution_count": 9,
   "metadata": {},
   "outputs": [],
   "source": [
    "# !!! method 2: required to have calculated M import\n",
    "# See below\n",
    "# V2 = x - Z.sum(axis=1) - M_INT.sum(axis=1)\n",
    "# V2"
   ]
  },
  {
   "cell_type": "markdown",
   "metadata": {},
   "source": [
    "Q3: Calculate V; Which sector is more profitable and why?  \n",
    "\n",
    "From a per unit perspective, EHP is the most profitable (see v). \n",
    "RoService created the largest value added in the Swiss economy in 2019 (see V)."
   ]
  },
  {
   "cell_type": "markdown",
   "metadata": {},
   "source": [
    "## M: Import (unit: €/year)\n",
    "\n",
    "Import: both intermediate products for production purposes and finished products"
   ]
  },
  {
   "cell_type": "code",
   "execution_count": 10,
   "metadata": {},
   "outputs": [
    {
     "data": {
      "text/html": [
       "<div>\n",
       "<style scoped>\n",
       "    .dataframe tbody tr th:only-of-type {\n",
       "        vertical-align: middle;\n",
       "    }\n",
       "\n",
       "    .dataframe tbody tr th {\n",
       "        vertical-align: top;\n",
       "    }\n",
       "\n",
       "    .dataframe thead th {\n",
       "        text-align: right;\n",
       "    }\n",
       "</style>\n",
       "<table border=\"1\" class=\"dataframe\">\n",
       "  <thead>\n",
       "    <tr style=\"text-align: right;\">\n",
       "      <th></th>\n",
       "      <th>Agriculture</th>\n",
       "      <th>Industry</th>\n",
       "      <th>EHP</th>\n",
       "      <th>RoService</th>\n",
       "    </tr>\n",
       "  </thead>\n",
       "  <tbody>\n",
       "    <tr>\n",
       "      <th>Agriculture</th>\n",
       "      <td>1887</td>\n",
       "      <td>6882</td>\n",
       "      <td>503</td>\n",
       "      <td>935</td>\n",
       "    </tr>\n",
       "    <tr>\n",
       "      <th>Industry</th>\n",
       "      <td>2880</td>\n",
       "      <td>100596</td>\n",
       "      <td>6829</td>\n",
       "      <td>16386</td>\n",
       "    </tr>\n",
       "    <tr>\n",
       "      <th>EHP</th>\n",
       "      <td>8</td>\n",
       "      <td>85</td>\n",
       "      <td>59</td>\n",
       "      <td>176</td>\n",
       "    </tr>\n",
       "    <tr>\n",
       "      <th>RoService</th>\n",
       "      <td>1298</td>\n",
       "      <td>16587</td>\n",
       "      <td>6243</td>\n",
       "      <td>34499</td>\n",
       "    </tr>\n",
       "  </tbody>\n",
       "</table>\n",
       "</div>"
      ],
      "text/plain": [
       "             Agriculture  Industry   EHP  RoService\n",
       "Agriculture         1887      6882   503        935\n",
       "Industry            2880    100596  6829      16386\n",
       "EHP                    8        85    59        176\n",
       "RoService           1298     16587  6243      34499"
      ]
     },
     "execution_count": 10,
     "metadata": {},
     "output_type": "execute_result"
    }
   ],
   "source": [
    "# M (Unit: Million euro/Million euro)\n",
    "M_INT_NL_values = [\n",
    "    [1887, 6882, 503, 935],\n",
    "    [2880, 100596, 6829, 16386],\n",
    "    [8, 85, 59, 176],\n",
    "    [1298, 16587, 6243, 34499]\n",
    "]\n",
    "\n",
    "M_INT_values = M_INT_NL_values\n",
    "\n",
    "M_INT = pd.DataFrame(M_INT_values, index=Z_columns, columns=Z_columns)\n",
    "M_INT"
   ]
  },
  {
   "cell_type": "code",
   "execution_count": 11,
   "metadata": {},
   "outputs": [
    {
     "data": {
      "text/html": [
       "<div>\n",
       "<style scoped>\n",
       "    .dataframe tbody tr th:only-of-type {\n",
       "        vertical-align: middle;\n",
       "    }\n",
       "\n",
       "    .dataframe tbody tr th {\n",
       "        vertical-align: top;\n",
       "    }\n",
       "\n",
       "    .dataframe thead th {\n",
       "        text-align: right;\n",
       "    }\n",
       "</style>\n",
       "<table border=\"1\" class=\"dataframe\">\n",
       "  <thead>\n",
       "    <tr style=\"text-align: right;\">\n",
       "      <th></th>\n",
       "      <th>Domestic</th>\n",
       "    </tr>\n",
       "  </thead>\n",
       "  <tbody>\n",
       "    <tr>\n",
       "      <th>Agriculture</th>\n",
       "      <td>9069</td>\n",
       "    </tr>\n",
       "    <tr>\n",
       "      <th>Industry</th>\n",
       "      <td>97315</td>\n",
       "    </tr>\n",
       "    <tr>\n",
       "      <th>EHP</th>\n",
       "      <td>1550</td>\n",
       "    </tr>\n",
       "    <tr>\n",
       "      <th>RoService</th>\n",
       "      <td>19656</td>\n",
       "    </tr>\n",
       "  </tbody>\n",
       "</table>\n",
       "</div>"
      ],
      "text/plain": [
       "             Domestic\n",
       "Agriculture      9069\n",
       "Industry        97315\n",
       "EHP              1550\n",
       "RoService       19656"
      ]
     },
     "execution_count": 11,
     "metadata": {},
     "output_type": "execute_result"
    }
   ],
   "source": [
    "M_FD_NL_values = [9069, 97315, 1550, 19656]\n",
    "\n",
    "M_FD_values = M_FD_NL_values\n",
    "\n",
    "M_FD = pd.DataFrame(M_FD_values, index=Z_columns, columns=[Y_columns[0]])\n",
    "M_FD"
   ]
  },
  {
   "cell_type": "markdown",
   "metadata": {},
   "source": [
    "### Recalculate Z to include import"
   ]
  },
  {
   "cell_type": "code",
   "execution_count": 12,
   "metadata": {},
   "outputs": [
    {
     "data": {
      "text/html": [
       "<div>\n",
       "<style scoped>\n",
       "    .dataframe tbody tr th:only-of-type {\n",
       "        vertical-align: middle;\n",
       "    }\n",
       "\n",
       "    .dataframe tbody tr th {\n",
       "        vertical-align: top;\n",
       "    }\n",
       "\n",
       "    .dataframe thead th {\n",
       "        text-align: right;\n",
       "    }\n",
       "</style>\n",
       "<table border=\"1\" class=\"dataframe\">\n",
       "  <thead>\n",
       "    <tr style=\"text-align: right;\">\n",
       "      <th></th>\n",
       "      <th>Agriculture</th>\n",
       "      <th>Industry</th>\n",
       "      <th>EHP</th>\n",
       "      <th>RoService</th>\n",
       "    </tr>\n",
       "  </thead>\n",
       "  <tbody>\n",
       "    <tr>\n",
       "      <th>Agriculture</th>\n",
       "      <td>2940</td>\n",
       "      <td>23255</td>\n",
       "      <td>673</td>\n",
       "      <td>1722</td>\n",
       "    </tr>\n",
       "    <tr>\n",
       "      <th>Industry</th>\n",
       "      <td>6625</td>\n",
       "      <td>189551</td>\n",
       "      <td>18307</td>\n",
       "      <td>53588</td>\n",
       "    </tr>\n",
       "    <tr>\n",
       "      <th>EHP</th>\n",
       "      <td>202</td>\n",
       "      <td>2842</td>\n",
       "      <td>6927</td>\n",
       "      <td>7912</td>\n",
       "    </tr>\n",
       "    <tr>\n",
       "      <th>RoService</th>\n",
       "      <td>7878</td>\n",
       "      <td>100071</td>\n",
       "      <td>36558</td>\n",
       "      <td>229153</td>\n",
       "    </tr>\n",
       "  </tbody>\n",
       "</table>\n",
       "</div>"
      ],
      "text/plain": [
       "             Agriculture  Industry    EHP  RoService\n",
       "Agriculture         2940     23255    673       1722\n",
       "Industry            6625    189551  18307      53588\n",
       "EHP                  202      2842   6927       7912\n",
       "RoService           7878    100071  36558     229153"
      ]
     },
     "execution_count": 12,
     "metadata": {},
     "output_type": "execute_result"
    }
   ],
   "source": [
    "if include_imports and not Z_with_import:\n",
    "    Z = Z + M_INT\n",
    "    Z_with_import = True\n",
    "Z"
   ]
  },
  {
   "cell_type": "markdown",
   "metadata": {},
   "source": [
    "### Recalculate Y to include import"
   ]
  },
  {
   "cell_type": "code",
   "execution_count": 13,
   "metadata": {},
   "outputs": [
    {
     "data": {
      "text/html": [
       "<div>\n",
       "<style scoped>\n",
       "    .dataframe tbody tr th:only-of-type {\n",
       "        vertical-align: middle;\n",
       "    }\n",
       "\n",
       "    .dataframe tbody tr th {\n",
       "        vertical-align: top;\n",
       "    }\n",
       "\n",
       "    .dataframe thead th {\n",
       "        text-align: right;\n",
       "    }\n",
       "</style>\n",
       "<table border=\"1\" class=\"dataframe\">\n",
       "  <thead>\n",
       "    <tr style=\"text-align: right;\">\n",
       "      <th></th>\n",
       "      <th>Domestic</th>\n",
       "      <th>Export</th>\n",
       "    </tr>\n",
       "  </thead>\n",
       "  <tbody>\n",
       "    <tr>\n",
       "      <th>Agriculture</th>\n",
       "      <td>11326</td>\n",
       "      <td>12790.0</td>\n",
       "    </tr>\n",
       "    <tr>\n",
       "      <th>Industry</th>\n",
       "      <td>225255</td>\n",
       "      <td>224817.0</td>\n",
       "    </tr>\n",
       "    <tr>\n",
       "      <th>EHP</th>\n",
       "      <td>178194</td>\n",
       "      <td>8246.0</td>\n",
       "    </tr>\n",
       "    <tr>\n",
       "      <th>RoService</th>\n",
       "      <td>310953</td>\n",
       "      <td>162090.0</td>\n",
       "    </tr>\n",
       "  </tbody>\n",
       "</table>\n",
       "</div>"
      ],
      "text/plain": [
       "             Domestic    Export\n",
       "Agriculture     11326   12790.0\n",
       "Industry       225255  224817.0\n",
       "EHP            178194    8246.0\n",
       "RoService      310953  162090.0"
      ]
     },
     "execution_count": 13,
     "metadata": {},
     "output_type": "execute_result"
    }
   ],
   "source": [
    "if include_imports and not Y_with_import:\n",
    "    Y = Y.add(M_FD, fill_value=0)\n",
    "    Y_with_import = True\n",
    "Y"
   ]
  },
  {
   "cell_type": "markdown",
   "metadata": {},
   "source": [
    "## A: Technical coefficient (unit: €/€)\n",
    "\n",
    "$$a_{i,j} = z_{i,j}/x_j$$\n",
    "$$z_{i,j} = a_{i,j} x_j$$\n",
    "\n",
    "$aij$ : direct requirements of sector i per € output of sector j  \n",
    "$lij$ : total requirements of sector i per € final demand of sector j"
   ]
  },
  {
   "cell_type": "code",
   "execution_count": 14,
   "metadata": {},
   "outputs": [
    {
     "data": {
      "text/html": [
       "<div>\n",
       "<style scoped>\n",
       "    .dataframe tbody tr th:only-of-type {\n",
       "        vertical-align: middle;\n",
       "    }\n",
       "\n",
       "    .dataframe tbody tr th {\n",
       "        vertical-align: top;\n",
       "    }\n",
       "\n",
       "    .dataframe thead th {\n",
       "        text-align: right;\n",
       "    }\n",
       "</style>\n",
       "<table border=\"1\" class=\"dataframe\">\n",
       "  <thead>\n",
       "    <tr style=\"text-align: right;\">\n",
       "      <th></th>\n",
       "      <th>Agriculture</th>\n",
       "      <th>Industry</th>\n",
       "      <th>EHP</th>\n",
       "      <th>RoService</th>\n",
       "    </tr>\n",
       "  </thead>\n",
       "  <tbody>\n",
       "    <tr>\n",
       "      <th>Agriculture</th>\n",
       "      <td>0.088</td>\n",
       "      <td>0.047</td>\n",
       "      <td>0.003</td>\n",
       "      <td>0.002</td>\n",
       "    </tr>\n",
       "    <tr>\n",
       "      <th>Industry</th>\n",
       "      <td>0.198</td>\n",
       "      <td>0.384</td>\n",
       "      <td>0.090</td>\n",
       "      <td>0.070</td>\n",
       "    </tr>\n",
       "    <tr>\n",
       "      <th>EHP</th>\n",
       "      <td>0.006</td>\n",
       "      <td>0.006</td>\n",
       "      <td>0.034</td>\n",
       "      <td>0.010</td>\n",
       "    </tr>\n",
       "    <tr>\n",
       "      <th>RoService</th>\n",
       "      <td>0.236</td>\n",
       "      <td>0.203</td>\n",
       "      <td>0.181</td>\n",
       "      <td>0.298</td>\n",
       "    </tr>\n",
       "  </tbody>\n",
       "</table>\n",
       "</div>"
      ],
      "text/plain": [
       "             Agriculture  Industry    EHP  RoService\n",
       "Agriculture        0.088     0.047  0.003      0.002\n",
       "Industry           0.198     0.384  0.090      0.070\n",
       "EHP                0.006     0.006  0.034      0.010\n",
       "RoService          0.236     0.203  0.181      0.298"
      ]
     },
     "execution_count": 14,
     "metadata": {},
     "output_type": "execute_result"
    }
   ],
   "source": [
    "# A (Unit: Million euro/Million euro)\n",
    "A = Z.divide(x.T)  # Z = A.mul(x)\n",
    "A.round(3)"
   ]
  },
  {
   "cell_type": "code",
   "execution_count": 15,
   "metadata": {},
   "outputs": [
    {
     "data": {
      "text/html": [
       "<div>\n",
       "<style scoped>\n",
       "    .dataframe tbody tr th:only-of-type {\n",
       "        vertical-align: middle;\n",
       "    }\n",
       "\n",
       "    .dataframe tbody tr th {\n",
       "        vertical-align: top;\n",
       "    }\n",
       "\n",
       "    .dataframe thead th {\n",
       "        text-align: right;\n",
       "    }\n",
       "</style>\n",
       "<table border=\"1\" class=\"dataframe\">\n",
       "  <thead>\n",
       "    <tr style=\"text-align: right;\">\n",
       "      <th></th>\n",
       "      <th>Agriculture</th>\n",
       "      <th>Industry</th>\n",
       "      <th>EHP</th>\n",
       "      <th>RoService</th>\n",
       "    </tr>\n",
       "  </thead>\n",
       "  <tbody>\n",
       "    <tr>\n",
       "      <th>Agriculture</th>\n",
       "      <td>1.0</td>\n",
       "      <td>0.0</td>\n",
       "      <td>0.0</td>\n",
       "      <td>0.0</td>\n",
       "    </tr>\n",
       "    <tr>\n",
       "      <th>Industry</th>\n",
       "      <td>0.0</td>\n",
       "      <td>1.0</td>\n",
       "      <td>0.0</td>\n",
       "      <td>0.0</td>\n",
       "    </tr>\n",
       "    <tr>\n",
       "      <th>EHP</th>\n",
       "      <td>0.0</td>\n",
       "      <td>0.0</td>\n",
       "      <td>1.0</td>\n",
       "      <td>0.0</td>\n",
       "    </tr>\n",
       "    <tr>\n",
       "      <th>RoService</th>\n",
       "      <td>0.0</td>\n",
       "      <td>0.0</td>\n",
       "      <td>0.0</td>\n",
       "      <td>1.0</td>\n",
       "    </tr>\n",
       "  </tbody>\n",
       "</table>\n",
       "</div>"
      ],
      "text/plain": [
       "             Agriculture  Industry  EHP  RoService\n",
       "Agriculture          1.0       0.0  0.0        0.0\n",
       "Industry             0.0       1.0  0.0        0.0\n",
       "EHP                  0.0       0.0  1.0        0.0\n",
       "RoService            0.0       0.0  0.0        1.0"
      ]
     },
     "execution_count": 15,
     "metadata": {},
     "output_type": "execute_result"
    }
   ],
   "source": [
    "Id = pd.DataFrame(np.identity(len(Z_columns)), index=A.index, columns=A.columns)\n",
    "Id"
   ]
  },
  {
   "cell_type": "markdown",
   "metadata": {},
   "source": [
    "## L: Leontief inverse\n",
    "### by inverse\n",
    "\n",
    "$Z + y = x$  \n",
    "$Ax + y = x$  \n",
    "$y = (I-A)x$  \n",
    "$(I-A)^{-1}(I-A)x=(I-A)^{-1}y$  \n",
    "\n",
    "$x = (I-A)^{-1}y = Ly$\n",
    "\n",
    "$lij$ : total requirements of sector i per € final demand of sector j"
   ]
  },
  {
   "cell_type": "code",
   "execution_count": 16,
   "metadata": {},
   "outputs": [
    {
     "data": {
      "text/html": [
       "<div>\n",
       "<style scoped>\n",
       "    .dataframe tbody tr th:only-of-type {\n",
       "        vertical-align: middle;\n",
       "    }\n",
       "\n",
       "    .dataframe tbody tr th {\n",
       "        vertical-align: top;\n",
       "    }\n",
       "\n",
       "    .dataframe thead th {\n",
       "        text-align: right;\n",
       "    }\n",
       "</style>\n",
       "<table border=\"1\" class=\"dataframe\">\n",
       "  <thead>\n",
       "    <tr style=\"text-align: right;\">\n",
       "      <th></th>\n",
       "      <th>Agriculture</th>\n",
       "      <th>Industry</th>\n",
       "      <th>EHP</th>\n",
       "      <th>RoService</th>\n",
       "    </tr>\n",
       "  </thead>\n",
       "  <tbody>\n",
       "    <tr>\n",
       "      <th>Agriculture</th>\n",
       "      <td>0.912055</td>\n",
       "      <td>-0.047062</td>\n",
       "      <td>-0.003324</td>\n",
       "      <td>-0.002241</td>\n",
       "    </tr>\n",
       "    <tr>\n",
       "      <th>Industry</th>\n",
       "      <td>-0.198175</td>\n",
       "      <td>0.616400</td>\n",
       "      <td>-0.090429</td>\n",
       "      <td>-0.069738</td>\n",
       "    </tr>\n",
       "    <tr>\n",
       "      <th>EHP</th>\n",
       "      <td>-0.006042</td>\n",
       "      <td>-0.005751</td>\n",
       "      <td>0.965783</td>\n",
       "      <td>-0.010296</td>\n",
       "    </tr>\n",
       "    <tr>\n",
       "      <th>RoService</th>\n",
       "      <td>-0.235657</td>\n",
       "      <td>-0.202517</td>\n",
       "      <td>-0.180582</td>\n",
       "      <td>0.701787</td>\n",
       "    </tr>\n",
       "  </tbody>\n",
       "</table>\n",
       "</div>"
      ],
      "text/plain": [
       "             Agriculture  Industry       EHP  RoService\n",
       "Agriculture     0.912055 -0.047062 -0.003324  -0.002241\n",
       "Industry       -0.198175  0.616400 -0.090429  -0.069738\n",
       "EHP            -0.006042 -0.005751  0.965783  -0.010296\n",
       "RoService      -0.235657 -0.202517 -0.180582   0.701787"
      ]
     },
     "execution_count": 16,
     "metadata": {},
     "output_type": "execute_result"
    }
   ],
   "source": [
    "(Id - A)"
   ]
  },
  {
   "cell_type": "code",
   "execution_count": 17,
   "metadata": {},
   "outputs": [
    {
     "data": {
      "text/html": [
       "<div>\n",
       "<style scoped>\n",
       "    .dataframe tbody tr th:only-of-type {\n",
       "        vertical-align: middle;\n",
       "    }\n",
       "\n",
       "    .dataframe tbody tr th {\n",
       "        vertical-align: top;\n",
       "    }\n",
       "\n",
       "    .dataframe thead th {\n",
       "        text-align: right;\n",
       "    }\n",
       "</style>\n",
       "<table border=\"1\" class=\"dataframe\">\n",
       "  <thead>\n",
       "    <tr style=\"text-align: right;\">\n",
       "      <th></th>\n",
       "      <th>Agriculture</th>\n",
       "      <th>Industry</th>\n",
       "      <th>EHP</th>\n",
       "      <th>RoService</th>\n",
       "    </tr>\n",
       "  </thead>\n",
       "  <tbody>\n",
       "    <tr>\n",
       "      <th>Agriculture</th>\n",
       "      <td>1.12</td>\n",
       "      <td>0.09</td>\n",
       "      <td>0.01</td>\n",
       "      <td>0.01</td>\n",
       "    </tr>\n",
       "    <tr>\n",
       "      <th>Industry</th>\n",
       "      <td>0.42</td>\n",
       "      <td>1.71</td>\n",
       "      <td>0.19</td>\n",
       "      <td>0.17</td>\n",
       "    </tr>\n",
       "    <tr>\n",
       "      <th>EHP</th>\n",
       "      <td>0.01</td>\n",
       "      <td>0.02</td>\n",
       "      <td>1.04</td>\n",
       "      <td>0.02</td>\n",
       "    </tr>\n",
       "    <tr>\n",
       "      <th>RoService</th>\n",
       "      <td>0.50</td>\n",
       "      <td>0.53</td>\n",
       "      <td>0.33</td>\n",
       "      <td>1.48</td>\n",
       "    </tr>\n",
       "  </tbody>\n",
       "</table>\n",
       "</div>"
      ],
      "text/plain": [
       "             Agriculture  Industry   EHP  RoService\n",
       "Agriculture         1.12      0.09  0.01       0.01\n",
       "Industry            0.42      1.71  0.19       0.17\n",
       "EHP                 0.01      0.02  1.04       0.02\n",
       "RoService           0.50      0.53  0.33       1.48"
      ]
     },
     "execution_count": 17,
     "metadata": {},
     "output_type": "execute_result"
    }
   ],
   "source": [
    "L = pd.DataFrame(np.linalg.inv((Id - A).values), A.columns, A.index)\n",
    "L.round(2)"
   ]
  },
  {
   "cell_type": "markdown",
   "metadata": {},
   "source": [
    "### by series expansion\n",
    "\n",
    "L covers supply chains of inifinte lengths. Power expansions stops at a certain depth\n",
    "\n",
    "$$(I-A)^{-1} = I + A + A^2 + A^3 + ... + A^n + ... = \\lim_{n \\to +\\infty} \\sum_{k=0}^{n} A^k$$\n",
    "\n",
    "The power series converges only under certain conditions:\n",
    "- A ≥ 0 (coefficients matrix contains only non-negative terms)\n",
    "- The system produces more output than it requires inputs N(A) < 1\n",
    "- |I − A| > 0\n",
    "- More generally, the [Hawkins-Simon conditions](https://www.wikiwand.com/en/Hawkins%E2%80%93Simon_condition)\n",
    "\n",
    "the limit sum convergs if all of the eigenvalues of A have absolute value smaller than 1 (?)"
   ]
  },
  {
   "cell_type": "code",
   "execution_count": 18,
   "metadata": {},
   "outputs": [
    {
     "data": {
      "text/html": [
       "<div>\n",
       "<style scoped>\n",
       "    .dataframe tbody tr th:only-of-type {\n",
       "        vertical-align: middle;\n",
       "    }\n",
       "\n",
       "    .dataframe tbody tr th {\n",
       "        vertical-align: top;\n",
       "    }\n",
       "\n",
       "    .dataframe thead th {\n",
       "        text-align: right;\n",
       "    }\n",
       "</style>\n",
       "<table border=\"1\" class=\"dataframe\">\n",
       "  <thead>\n",
       "    <tr style=\"text-align: right;\">\n",
       "      <th></th>\n",
       "      <th>Agriculture</th>\n",
       "      <th>Industry</th>\n",
       "      <th>EHP</th>\n",
       "      <th>RoService</th>\n",
       "    </tr>\n",
       "  </thead>\n",
       "  <tbody>\n",
       "    <tr>\n",
       "      <th>Agriculture</th>\n",
       "      <td>0.0176</td>\n",
       "      <td>0.0227</td>\n",
       "      <td>0.0051</td>\n",
       "      <td>0.0042</td>\n",
       "    </tr>\n",
       "    <tr>\n",
       "      <th>Industry</th>\n",
       "      <td>0.1104</td>\n",
       "      <td>0.1711</td>\n",
       "      <td>0.0510</td>\n",
       "      <td>0.0489</td>\n",
       "    </tr>\n",
       "    <tr>\n",
       "      <th>EHP</th>\n",
       "      <td>0.0043</td>\n",
       "      <td>0.0048</td>\n",
       "      <td>0.0036</td>\n",
       "      <td>0.0038</td>\n",
       "    </tr>\n",
       "    <tr>\n",
       "      <th>RoService</th>\n",
       "      <td>0.1322</td>\n",
       "      <td>0.1502</td>\n",
       "      <td>0.0791</td>\n",
       "      <td>0.1054</td>\n",
       "    </tr>\n",
       "  </tbody>\n",
       "</table>\n",
       "</div>"
      ],
      "text/plain": [
       "             Agriculture  Industry     EHP  RoService\n",
       "Agriculture       0.0176    0.0227  0.0051     0.0042\n",
       "Industry          0.1104    0.1711  0.0510     0.0489\n",
       "EHP               0.0043    0.0048  0.0036     0.0038\n",
       "RoService         0.1322    0.1502  0.0791     0.1054"
      ]
     },
     "execution_count": 18,
     "metadata": {},
     "output_type": "execute_result"
    }
   ],
   "source": [
    "# AA\n",
    "A.dot(A).round(4)"
   ]
  },
  {
   "cell_type": "code",
   "execution_count": 19,
   "metadata": {},
   "outputs": [
    {
     "data": {
      "text/html": [
       "<div>\n",
       "<style scoped>\n",
       "    .dataframe tbody tr th:only-of-type {\n",
       "        vertical-align: middle;\n",
       "    }\n",
       "\n",
       "    .dataframe tbody tr th {\n",
       "        vertical-align: top;\n",
       "    }\n",
       "\n",
       "    .dataframe thead th {\n",
       "        text-align: right;\n",
       "    }\n",
       "</style>\n",
       "<table border=\"1\" class=\"dataframe\">\n",
       "  <thead>\n",
       "    <tr style=\"text-align: right;\">\n",
       "      <th></th>\n",
       "      <th>Agriculture</th>\n",
       "      <th>Industry</th>\n",
       "      <th>EHP</th>\n",
       "      <th>RoService</th>\n",
       "    </tr>\n",
       "  </thead>\n",
       "  <tbody>\n",
       "    <tr>\n",
       "      <th>Agriculture</th>\n",
       "      <td>0.0071</td>\n",
       "      <td>0.0104</td>\n",
       "      <td>0.0030</td>\n",
       "      <td>0.0029</td>\n",
       "    </tr>\n",
       "    <tr>\n",
       "      <th>Industry</th>\n",
       "      <td>0.0555</td>\n",
       "      <td>0.0810</td>\n",
       "      <td>0.0264</td>\n",
       "      <td>0.0273</td>\n",
       "    </tr>\n",
       "    <tr>\n",
       "      <th>EHP</th>\n",
       "      <td>0.0023</td>\n",
       "      <td>0.0028</td>\n",
       "      <td>0.0013</td>\n",
       "      <td>0.0015</td>\n",
       "    </tr>\n",
       "    <tr>\n",
       "      <th>RoService</th>\n",
       "      <td>0.0667</td>\n",
       "      <td>0.0857</td>\n",
       "      <td>0.0358</td>\n",
       "      <td>0.0430</td>\n",
       "    </tr>\n",
       "  </tbody>\n",
       "</table>\n",
       "</div>"
      ],
      "text/plain": [
       "             Agriculture  Industry     EHP  RoService\n",
       "Agriculture       0.0071    0.0104  0.0030     0.0029\n",
       "Industry          0.0555    0.0810  0.0264     0.0273\n",
       "EHP               0.0023    0.0028  0.0013     0.0015\n",
       "RoService         0.0667    0.0857  0.0358     0.0430"
      ]
     },
     "execution_count": 19,
     "metadata": {},
     "output_type": "execute_result"
    }
   ],
   "source": [
    "# AAA\n",
    "A.dot(A.dot(A)).round(4)"
   ]
  },
  {
   "cell_type": "code",
   "execution_count": 20,
   "metadata": {},
   "outputs": [],
   "source": [
    "def leontief_power_series(A_mat, depth):\n",
    "    Id_mat = pd.DataFrame(np.identity(len(Z_columns)), index=A.index, columns=A.columns)\n",
    "    \n",
    "    res = [None]*(depth+1)\n",
    "    res[0] = Id_mat\n",
    "\n",
    "    for i in range(1, depth+1):\n",
    "        res[i] = res[i-1].dot(A_mat)\n",
    "        print(f\"{'A'*i}\\n{res[i]}\\n\\n\")\n",
    "\n",
    "    return reduce(add, res)"
   ]
  },
  {
   "cell_type": "code",
   "execution_count": 21,
   "metadata": {},
   "outputs": [
    {
     "name": "stdout",
     "output_type": "stream",
     "text": [
      "A\n",
      "             Agriculture  Industry       EHP  RoService\n",
      "Agriculture     0.087945  0.047062  0.003324   0.002241\n",
      "Industry        0.198175  0.383600  0.090429   0.069738\n",
      "EHP             0.006042  0.005751  0.034217   0.010296\n",
      "RoService       0.235657  0.202517  0.180582   0.298213\n",
      "\n",
      "\n",
      "AA\n",
      "             Agriculture  Industry       EHP  RoService\n",
      "Agriculture     0.017609  0.022665  0.005067   0.004182\n",
      "Industry        0.110429  0.171119  0.051035   0.048923\n",
      "EHP             0.004304  0.004773  0.003570   0.003837\n",
      "RoService       0.132226  0.150208  0.079128   0.105442\n",
      "\n",
      "\n",
      "AAA\n",
      "             Agriculture  Industry       EHP  RoService\n",
      "Agriculture     0.007056  0.010399  0.003037   0.002919\n",
      "Industry        0.055461  0.081039  0.026422   0.027296\n",
      "EHP             0.002250  0.002831  0.001261   0.001524\n",
      "RoService       0.066722  0.085651  0.035771   0.043030\n",
      "\n",
      "\n"
     ]
    },
    {
     "data": {
      "text/html": [
       "<div>\n",
       "<style scoped>\n",
       "    .dataframe tbody tr th:only-of-type {\n",
       "        vertical-align: middle;\n",
       "    }\n",
       "\n",
       "    .dataframe tbody tr th {\n",
       "        vertical-align: top;\n",
       "    }\n",
       "\n",
       "    .dataframe thead th {\n",
       "        text-align: right;\n",
       "    }\n",
       "</style>\n",
       "<table border=\"1\" class=\"dataframe\">\n",
       "  <thead>\n",
       "    <tr style=\"text-align: right;\">\n",
       "      <th></th>\n",
       "      <th>Agriculture</th>\n",
       "      <th>Industry</th>\n",
       "      <th>EHP</th>\n",
       "      <th>RoService</th>\n",
       "    </tr>\n",
       "  </thead>\n",
       "  <tbody>\n",
       "    <tr>\n",
       "      <th>Agriculture</th>\n",
       "      <td>1.112610</td>\n",
       "      <td>0.080125</td>\n",
       "      <td>0.011428</td>\n",
       "      <td>0.009342</td>\n",
       "    </tr>\n",
       "    <tr>\n",
       "      <th>Industry</th>\n",
       "      <td>0.364065</td>\n",
       "      <td>1.635758</td>\n",
       "      <td>0.167887</td>\n",
       "      <td>0.145957</td>\n",
       "    </tr>\n",
       "    <tr>\n",
       "      <th>EHP</th>\n",
       "      <td>0.012597</td>\n",
       "      <td>0.013355</td>\n",
       "      <td>1.039048</td>\n",
       "      <td>0.015658</td>\n",
       "    </tr>\n",
       "    <tr>\n",
       "      <th>RoService</th>\n",
       "      <td>0.434604</td>\n",
       "      <td>0.438376</td>\n",
       "      <td>0.295481</td>\n",
       "      <td>1.446685</td>\n",
       "    </tr>\n",
       "  </tbody>\n",
       "</table>\n",
       "</div>"
      ],
      "text/plain": [
       "             Agriculture  Industry       EHP  RoService\n",
       "Agriculture     1.112610  0.080125  0.011428   0.009342\n",
       "Industry        0.364065  1.635758  0.167887   0.145957\n",
       "EHP             0.012597  0.013355  1.039048   0.015658\n",
       "RoService       0.434604  0.438376  0.295481   1.446685"
      ]
     },
     "execution_count": 21,
     "metadata": {},
     "output_type": "execute_result"
    }
   ],
   "source": [
    "leontief_power_series(A, 3)"
   ]
  },
  {
   "cell_type": "markdown",
   "metadata": {},
   "source": [
    "### demand driven/pull vs supply sided\n",
    "\n",
    "$x* = (I-A)^{-1}y*$ \n",
    "\n",
    "The demand-driven (or demand pull) version of the open Input-Output model determines production as a function of final demand, given the production technology.  \n",
    "- $y*$ represents a certain final demand of finished goods and services\n",
    "- $x*$ represents all sectors' outputs (products/services) directly and indirectly required to fullfill the final demand for $y*$\n",
    "\n",
    "\n",
    "$x = (I-A)^{-1}y$\n",
    "\n",
    "On the contrary, in the supply-sided version, value added determines output and producers must induce sales in order to achieve a desired level of income.\n",
    "\n",
    "$Iy*$  \n",
    "direct impact  \n",
    "\n",
    "$(A + A^2 + A^3 + ... + A^n)y*$  \n",
    "indirect supply chain impact for n level/rounds\n",
    "\n",
    "\n",
    "$Iy*$ "
   ]
  },
  {
   "cell_type": "code",
   "execution_count": 22,
   "metadata": {},
   "outputs": [
    {
     "data": {
      "text/plain": [
       "Agriculture    0\n",
       "Industry       1\n",
       "EHP            0\n",
       "RoService      0\n",
       "dtype: int64"
      ]
     },
     "execution_count": 22,
     "metadata": {},
     "output_type": "execute_result"
    }
   ],
   "source": [
    "# Demand pull\n",
    "y_star_index = 'Industry'\n",
    "\n",
    "y_star = pd.Series(np.array(x.index == y_star_index, dtype=int), index=x.index)\n",
    "y_star"
   ]
  },
  {
   "cell_type": "code",
   "execution_count": 23,
   "metadata": {},
   "outputs": [
    {
     "data": {
      "text/plain": [
       "Agriculture    0.047\n",
       "Industry       0.384\n",
       "EHP            0.006\n",
       "RoService      0.203\n",
       "dtype: float64"
      ]
     },
     "execution_count": 23,
     "metadata": {},
     "output_type": "execute_result"
    }
   ],
   "source": [
    "# Ay*\n",
    "A.dot(y_star).round(3)"
   ]
  },
  {
   "cell_type": "code",
   "execution_count": 24,
   "metadata": {},
   "outputs": [
    {
     "data": {
      "text/plain": [
       "Agriculture    0.023\n",
       "Industry       0.171\n",
       "EHP            0.005\n",
       "RoService      0.150\n",
       "dtype: float64"
      ]
     },
     "execution_count": 24,
     "metadata": {},
     "output_type": "execute_result"
    }
   ],
   "source": [
    "# AAy*\n",
    "A.dot(A.dot(y_star)).round(3)"
   ]
  },
  {
   "cell_type": "code",
   "execution_count": 25,
   "metadata": {},
   "outputs": [
    {
     "data": {
      "text/plain": [
       "Agriculture    0.010\n",
       "Industry       0.081\n",
       "EHP            0.003\n",
       "RoService      0.086\n",
       "dtype: float64"
      ]
     },
     "execution_count": 25,
     "metadata": {},
     "output_type": "execute_result"
    }
   ],
   "source": [
    "# AAAy*\n",
    "A.dot(A.dot(A.dot(y_star))).round(3)"
   ]
  },
  {
   "cell_type": "code",
   "execution_count": 26,
   "metadata": {},
   "outputs": [],
   "source": [
    "def demand_pull_power_series(y_st, A_mat, depth):\n",
    "    res = [y_st]*(depth+1)\n",
    "    for i in range(1, depth+1):\n",
    "        res[i] = A_mat.dot(res[i-1])\n",
    "\n",
    "    res = pd.concat(res, axis=1)\n",
    "    res.columns = ['A'*i + 'y*' for i in range(depth+1)]\n",
    "    res['sum'] = res.sum(axis=1)\n",
    "    return res"
   ]
  },
  {
   "cell_type": "code",
   "execution_count": 27,
   "metadata": {},
   "outputs": [
    {
     "data": {
      "text/html": [
       "<div>\n",
       "<style scoped>\n",
       "    .dataframe tbody tr th:only-of-type {\n",
       "        vertical-align: middle;\n",
       "    }\n",
       "\n",
       "    .dataframe tbody tr th {\n",
       "        vertical-align: top;\n",
       "    }\n",
       "\n",
       "    .dataframe thead th {\n",
       "        text-align: right;\n",
       "    }\n",
       "</style>\n",
       "<table border=\"1\" class=\"dataframe\">\n",
       "  <thead>\n",
       "    <tr style=\"text-align: right;\">\n",
       "      <th></th>\n",
       "      <th>y*</th>\n",
       "      <th>Ay*</th>\n",
       "      <th>AAy*</th>\n",
       "      <th>AAAy*</th>\n",
       "      <th>sum</th>\n",
       "    </tr>\n",
       "  </thead>\n",
       "  <tbody>\n",
       "    <tr>\n",
       "      <th>Agriculture</th>\n",
       "      <td>0</td>\n",
       "      <td>0.047</td>\n",
       "      <td>0.023</td>\n",
       "      <td>0.010</td>\n",
       "      <td>0.080</td>\n",
       "    </tr>\n",
       "    <tr>\n",
       "      <th>Industry</th>\n",
       "      <td>1</td>\n",
       "      <td>0.384</td>\n",
       "      <td>0.171</td>\n",
       "      <td>0.081</td>\n",
       "      <td>1.636</td>\n",
       "    </tr>\n",
       "    <tr>\n",
       "      <th>EHP</th>\n",
       "      <td>0</td>\n",
       "      <td>0.006</td>\n",
       "      <td>0.005</td>\n",
       "      <td>0.003</td>\n",
       "      <td>0.013</td>\n",
       "    </tr>\n",
       "    <tr>\n",
       "      <th>RoService</th>\n",
       "      <td>0</td>\n",
       "      <td>0.203</td>\n",
       "      <td>0.150</td>\n",
       "      <td>0.086</td>\n",
       "      <td>0.438</td>\n",
       "    </tr>\n",
       "  </tbody>\n",
       "</table>\n",
       "</div>"
      ],
      "text/plain": [
       "             y*    Ay*   AAy*  AAAy*    sum\n",
       "Agriculture   0  0.047  0.023  0.010  0.080\n",
       "Industry      1  0.384  0.171  0.081  1.636\n",
       "EHP           0  0.006  0.005  0.003  0.013\n",
       "RoService     0  0.203  0.150  0.086  0.438"
      ]
     },
     "execution_count": 27,
     "metadata": {},
     "output_type": "execute_result"
    }
   ],
   "source": [
    "demand_pull_power_series(y_star, A, 3).round(3)"
   ]
  },
  {
   "cell_type": "markdown",
   "metadata": {},
   "source": [
    "Compare the power expansion with using Leontief inverse directly"
   ]
  },
  {
   "cell_type": "code",
   "execution_count": 28,
   "metadata": {},
   "outputs": [
    {
     "data": {
      "text/plain": [
       "Agriculture    0.089771\n",
       "Industry       1.713420\n",
       "EHP            0.016403\n",
       "RoService      0.528812\n",
       "dtype: float64"
      ]
     },
     "execution_count": 28,
     "metadata": {},
     "output_type": "execute_result"
    }
   ],
   "source": [
    "L.dot(y_star)"
   ]
  },
  {
   "cell_type": "markdown",
   "metadata": {},
   "source": [
    "## F/f: Footprint (in Tonne / euros)\n",
    "\n",
    "$$f_i = F_i / x_i$$  \n",
    "\n",
    "- F: (direct) emissions, resource use, etc.\n",
    "- f: (direct) environmental coefficients\n",
    "\n",
    "$$fAx + fy = fx = fLy$$  \n",
    "\n",
    "- $fAx$: environmental pressure (EP) directly generated while producing the intermediate products\n",
    "- $fy$: environmental pressure (EP) directly generated while producing the finished products\n",
    "- $fx$: environmental pressure (EP) directly generated while producing all products (intermediate + finished)\n",
    "- $fLy$: environmental pressure (EP) directly and inderectly generated to meet the final demand\n",
    "\n",
    "\n",
    "$$f_{\\text{total}} = f_{\\text{direct}}L$$"
   ]
  },
  {
   "cell_type": "code",
   "execution_count": 29,
   "metadata": {},
   "outputs": [
    {
     "data": {
      "text/plain": [
       "Agriculture    13.9\n",
       "Industry       92.7\n",
       "EHP             2.3\n",
       "RoService      44.7\n",
       "dtype: float64"
      ]
     },
     "execution_count": 29,
     "metadata": {},
     "output_type": "execute_result"
    }
   ],
   "source": [
    "# F (Unit: Million tonne)\n",
    "F_values_NL = [13.9, 92.7, 2.3, 44.7]\n",
    "\n",
    "F_values = F_values_NL\n",
    "\n",
    "F = pd.Series(F_values, index=Z_columns)\n",
    "F"
   ]
  },
  {
   "cell_type": "markdown",
   "metadata": {},
   "source": [
    "`f_direct` is a row vector of wage, job, value added, CO2 emissions, water use ... per\n",
    "unit gross output. Direct environmental pressures intensity "
   ]
  },
  {
   "cell_type": "code",
   "execution_count": 30,
   "metadata": {},
   "outputs": [
    {
     "data": {
      "text/plain": [
       "Agriculture    415.794197\n",
       "Industry       187.599795\n",
       "EHP             11.361110\n",
       "RoService       58.171313\n",
       "dtype: float64"
      ]
     },
     "execution_count": 30,
     "metadata": {},
     "output_type": "execute_result"
    }
   ],
   "source": [
    "# f (Unit: tonne)\n",
    "# Note: f's unit is Tonne/Million euro. If measured in Million tonne/Million euro, i.e., tonne/euro, the numbers will appear too small to report. \n",
    "# coeff = F_unit / f_unit\n",
    "coeff = 1_000_000\n",
    "\n",
    "f_direct = F.divide(x)*coeff\n",
    "f_direct"
   ]
  },
  {
   "cell_type": "code",
   "execution_count": 31,
   "metadata": {},
   "outputs": [
    {
     "data": {
      "text/plain": [
       "Agriculture    573.227365\n",
       "Industry       389.711699\n",
       "EHP             73.510590\n",
       "RoService      124.525669\n",
       "dtype: float64"
      ]
     },
     "execution_count": 31,
     "metadata": {},
     "output_type": "execute_result"
    }
   ],
   "source": [
    "f_total = f_direct.dot(L)\n",
    "f_total"
   ]
  },
  {
   "cell_type": "code",
   "execution_count": 32,
   "metadata": {},
   "outputs": [
    {
     "data": {
      "text/plain": [
       "146097658.33842105"
      ]
     },
     "execution_count": 32,
     "metadata": {},
     "output_type": "execute_result"
    }
   ],
   "source": [
    "# aggregate Footprint (in tonne)\n",
    "f_total.dot(Y['Domestic'])"
   ]
  },
  {
   "cell_type": "code",
   "execution_count": 33,
   "metadata": {},
   "outputs": [
    {
     "data": {
      "text/html": [
       "<div>\n",
       "<style scoped>\n",
       "    .dataframe tbody tr th:only-of-type {\n",
       "        vertical-align: middle;\n",
       "    }\n",
       "\n",
       "    .dataframe tbody tr th {\n",
       "        vertical-align: top;\n",
       "    }\n",
       "\n",
       "    .dataframe thead th {\n",
       "        text-align: right;\n",
       "    }\n",
       "</style>\n",
       "<table border=\"1\" class=\"dataframe\">\n",
       "  <thead>\n",
       "    <tr style=\"text-align: right;\">\n",
       "      <th></th>\n",
       "      <th>Agriculture</th>\n",
       "      <th>Industry</th>\n",
       "      <th>EHP</th>\n",
       "      <th>RoService</th>\n",
       "    </tr>\n",
       "  </thead>\n",
       "  <tbody>\n",
       "    <tr>\n",
       "      <th>Agriculture</th>\n",
       "      <td>11326.0</td>\n",
       "      <td>0.0</td>\n",
       "      <td>0.0</td>\n",
       "      <td>0.0</td>\n",
       "    </tr>\n",
       "    <tr>\n",
       "      <th>Industry</th>\n",
       "      <td>0.0</td>\n",
       "      <td>225255.0</td>\n",
       "      <td>0.0</td>\n",
       "      <td>0.0</td>\n",
       "    </tr>\n",
       "    <tr>\n",
       "      <th>EHP</th>\n",
       "      <td>0.0</td>\n",
       "      <td>0.0</td>\n",
       "      <td>178194.0</td>\n",
       "      <td>0.0</td>\n",
       "    </tr>\n",
       "    <tr>\n",
       "      <th>RoService</th>\n",
       "      <td>0.0</td>\n",
       "      <td>0.0</td>\n",
       "      <td>0.0</td>\n",
       "      <td>310953.0</td>\n",
       "    </tr>\n",
       "  </tbody>\n",
       "</table>\n",
       "</div>"
      ],
      "text/plain": [
       "             Agriculture  Industry       EHP  RoService\n",
       "Agriculture      11326.0       0.0       0.0        0.0\n",
       "Industry             0.0  225255.0       0.0        0.0\n",
       "EHP                  0.0       0.0  178194.0        0.0\n",
       "RoService            0.0       0.0       0.0   310953.0"
      ]
     },
     "execution_count": 33,
     "metadata": {},
     "output_type": "execute_result"
    }
   ],
   "source": [
    "# We can diagonlise the FD domestic to get more granular info\n",
    "Y_domestic = Y['Domestic'].mul(Id)\n",
    "Y_domestic"
   ]
  },
  {
   "cell_type": "code",
   "execution_count": 34,
   "metadata": {},
   "outputs": [
    {
     "data": {
      "text/plain": [
       "Agriculture     6.492373\n",
       "Industry       87.784509\n",
       "EHP            13.099146\n",
       "RoService      38.721630\n",
       "dtype: float64"
      ]
     },
     "execution_count": 34,
     "metadata": {},
     "output_type": "execute_result"
    }
   ],
   "source": [
    "# GHG Footprint (Unit: Million tonne)\n",
    "# coeff = f_unit / Footprint_unit\n",
    "coeff = 1/1_000_000\n",
    "\n",
    "Footprint = f_total.dot(Y_domestic)*coeff\n",
    "Footprint"
   ]
  },
  {
   "cell_type": "code",
   "execution_count": 35,
   "metadata": {},
   "outputs": [
    {
     "data": {
      "text/plain": [
       "146.09765833842107"
      ]
     },
     "execution_count": 35,
     "metadata": {},
     "output_type": "execute_result"
    }
   ],
   "source": [
    "# and we get the same result (modulo a million)\n",
    "Footprint.sum()"
   ]
  },
  {
   "cell_type": "markdown",
   "metadata": {},
   "source": [
    "### Production based vs Consumption based\n",
    "\n",
    "EF represents supply chain-wide environmental pressures generated by a nation’s final demand (Footprint)\n",
    "\n",
    "- Production-based accounting (PBA) $EF = fx + F\\_Y$\n",
    "  - conventional perspective\n",
    "  - direct\n",
    "  - territorial\n",
    "- Consumption-based accounting (CBA) $EF = fLy + F\\_Y$\n",
    "  - direct effects are ultimately attributable to the final demand\n",
    "  - direct + indirect\n",
    "  - footprint"
   ]
  },
  {
   "cell_type": "code",
   "execution_count": 36,
   "metadata": {},
   "outputs": [
    {
     "name": "stdout",
     "output_type": "stream",
     "text": [
      "             PBA (territorial)  CBA (footprint)\n",
      "Agriculture               13.9         6.492373\n",
      "Industry                  92.7        87.784509\n",
      "EHP                        2.3        13.099146\n",
      "RoService                 44.7        38.721630\n",
      "             PBA (territorial)  CBA (footprint)\n",
      "Agriculture           0.090495         0.044439\n",
      "Industry              0.603516         0.600862\n",
      "EHP                   0.014974         0.089660\n",
      "RoService             0.291016         0.265039\n"
     ]
    },
    {
     "data": {
      "text/plain": [
       "<AxesSubplot:>"
      ]
     },
     "execution_count": 36,
     "metadata": {},
     "output_type": "execute_result"
    },
    {
     "data": {
      "image/png": "[encoded data removed]",
      "text/plain": [
       "<Figure size 720x432 with 1 Axes>"
      ]
     },
     "metadata": {
      "needs_background": "light"
     },
     "output_type": "display_data"
    },
    {
     "data": {
      "image/png": "[encoded data removed]",
      "text/plain": [
       "<Figure size 720x432 with 1 Axes>"
      ]
     },
     "metadata": {
      "needs_background": "light"
     },
     "output_type": "display_data"
    }
   ],
   "source": [
    "df_cba_pba = pd.concat([F, Footprint], axis=1).rename(\n",
    "    {0: 'PBA (territorial)', 1: 'CBA (footprint)'}, axis=1)\n",
    "\n",
    "df_cba_pba_percent = df_cba_pba/df_cba_pba.sum()\n",
    "\n",
    "print(df_cba_pba)\n",
    "print(df_cba_pba_percent)\n",
    "\n",
    "df_cba_pba.T.plot.bar(figsize=(10,6), stacked=True, rot=0)\n",
    "df_cba_pba_percent.T.plot.bar(figsize=(10,6), stacked=True, rot=0)"
   ]
  },
  {
   "cell_type": "markdown",
   "metadata": {},
   "source": [
    "### With / Without emission from final consumers\n",
    "\n",
    "$$EF = f_{\\text{total}}y + F\\_Y = f_{\\text{direct}}Ly + F\\_Y$$\n",
    "\n",
    "- y doesn’t include export because the environmental pressures generated when producing exported goods and services = other countries’ footprint\n",
    "- For an open economy $EF \\neq F$\n",
    "- For a closed economy: $f_{\\text{total}}y = f_{\\text{direct}}Ly = f_{\\text{direct}}x = F$"
   ]
  },
  {
   "cell_type": "code",
   "execution_count": 37,
   "metadata": {},
   "outputs": [],
   "source": [
    "# F_Y (Unit: million tonne)\n",
    "F_Y_NL = 36.1\n",
    "\n",
    "F_Y = F_Y_NL"
   ]
  },
  {
   "cell_type": "code",
   "execution_count": 38,
   "metadata": {},
   "outputs": [
    {
     "data": {
      "text/plain": [
       "182.19765833842106"
      ]
     },
     "execution_count": 38,
     "metadata": {},
     "output_type": "execute_result"
    }
   ],
   "source": [
    "# EF (Unit: Million tonnes)\n",
    "EF = Footprint.sum() + F_Y\n",
    "EF"
   ]
  },
  {
   "cell_type": "markdown",
   "metadata": {},
   "source": [
    "### With / Without imports\n",
    "\n",
    "1. modify `include_imports`\n",
    "2. cache result of footprint\n",
    "3. comment footprint\n",
    "4. restart from begining (starting from SRIO)"
   ]
  },
  {
   "cell_type": "code",
   "execution_count": 39,
   "metadata": {},
   "outputs": [],
   "source": [
    "# include_imports = True\n",
    "# Footprint_without_import = Footprint\n",
    "# Footprint_with_import = Footprint"
   ]
  },
  {
   "cell_type": "code",
   "execution_count": 40,
   "metadata": {},
   "outputs": [],
   "source": [
    "# df_srio = pd.concat([Footprint, Footprint_with_import], axis=1).rename(\n",
    "#     {0: 'without import', 1: 'with_import'}, axis=1)\n",
    "\n",
    "# print(df_srio)\n",
    "\n",
    "# df_srio.T.plot.bar(figsize=(10,6), stacked=True, rot=0)"
   ]
  }
 ],
 "metadata": {
  "kernelspec": {
   "display_name": "Python 3.9.7 ('minimal-env')",
   "language": "python",
   "name": "python3"
  },
  "language_info": {
   "codemirror_mode": {
    "name": "ipython",
    "version": 3
   },
   "file_extension": ".py",
   "mimetype": "text/x-python",
   "name": "python",
   "nbconvert_exporter": "python",
   "pygments_lexer": "ipython3",
   "version": "3.9.7"
  },
  "orig_nbformat": 4,
  "vscode": {
   "interpreter": {
    "hash": "b58a870c0bc0aec7b2b083224ef1f78c78c680a826fd98114dcf6068221c65a4"
   }
  }
 },
 "nbformat": 4,
 "nbformat_minor": 2
}
