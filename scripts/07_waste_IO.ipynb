{
 "cells": [
  {
   "cell_type": "markdown",
   "metadata": {},
   "source": [
    "# Practical 7: Waste Input-Output\n",
    "\n",
    "Objectives:\n",
    "- Understand the structure of a WIOT\n",
    "- Build a WIO model in Python\n",
    "- Analyze data from a WIO model\n",
    "\n",
    "The methods used in this practical sessions come from:\n",
    "Nakamura, S. and Kondo, Y. (2002), Input-Output Analysis of Waste Management. Journal of Industrial Ecology, 6: 39-63. https://doi.org/10.1162/108819802320971632"
   ]
  },
  {
   "cell_type": "code",
   "execution_count": 1,
   "metadata": {},
   "outputs": [],
   "source": [
    "# Import packages\n",
    "import pandas as pd\n",
    "import numpy as np\n",
    "\n",
    "# Set pandas number format\n",
    "pd.options.display.float_format = '{:,.2f}'.format"
   ]
  },
  {
   "attachments": {},
   "cell_type": "markdown",
   "metadata": {},
   "source": [
    "## Exercise 1: \n",
    "\n",
    "### Conceptual understanding of WIO tables"
   ]
  },
  {
   "attachments": {},
   "cell_type": "markdown",
   "metadata": {},
   "source": [
    "|   |  E  | WT |  y  |\n",
    "|---|-----|----|-----|\n",
    "| E | 52  | 22 | 100 |\n",
    "| WT| 349 | 44 | 50  |\n",
    "  \n",
    "*Table 1: WIOT of a country*"
   ]
  },
  {
   "attachments": {},
   "cell_type": "markdown",
   "metadata": {},
   "source": [
    "#### What are the expected units in the following parts of the simplified WIO system shown above? \n",
    "\n",
    "- E-WT quadrant (i.e., with value 22) \n",
    "  - **--> in Monetary flow**\n",
    "- WT-WT quadrant (i.e., with value 44) \n",
    "  - **--> in Mass flow**\n",
    "- and in Y (i.e., with values 100 and 50) \n",
    "  - **--> in Monetary flow**"
   ]
  },
  {
   "attachments": {},
   "cell_type": "markdown",
   "metadata": {},
   "source": [
    "#### Estimate the A-matrix. What do the coefficient represent in each quadrant? \n",
    "\n"
   ]
  },
  {
   "cell_type": "code",
   "execution_count": 231,
   "metadata": {},
   "outputs": [
    {
     "data": {
      "text/plain": [
       "(array([[0.29885057, 0.0496614 ],\n",
       "        [2.00574713, 0.0993228 ]]),\n",
       " array([174, 443]))"
      ]
     },
     "execution_count": 231,
     "metadata": {},
     "output_type": "execute_result"
    }
   ],
   "source": [
    "Z = np.array(\n",
    "    [[ 52, 22],\n",
    "     [349, 44]]\n",
    ")\n",
    "\n",
    "y = np.array([100, 50])\n",
    "\n",
    "x = Z.sum(axis=1) + y  # x =  Ax + Y  =  Z + Y\n",
    "\n",
    "A = Z / x.T  # would throw an error if divide by zero\n",
    "A, x"
   ]
  },
  {
   "attachments": {},
   "cell_type": "markdown",
   "metadata": {},
   "source": [
    "## Exercise 2\n",
    "\n",
    "### Construct a Waste Input-Output model\n",
    "\n",
    "Use the data provided and the following figures to help you\n",
    "\n",
    "- _Data adapted from source: https://www.f.waseda.jp/nakashin/WIO/wio2000sec103_0.06b_eng.xls_\n",
    "- _For additional info: http://www.f.waseda.jp/nakashin/WIO.html_\n",
    "\n",
    "\n",
    "![Waste Input-Output Accounting structure](../img/wio_1.gif)  \n",
    "*Fig 1. Waste Input-Output Accounting structure (Nakamura and Kondo, 2009)*\n"
   ]
  },
  {
   "attachments": {},
   "cell_type": "markdown",
   "metadata": {},
   "source": [
    "#### Import data"
   ]
  },
  {
   "cell_type": "code",
   "execution_count": 3,
   "metadata": {},
   "outputs": [],
   "source": [
    "FILEPATH = \"../data/Waste_IO/Japan_WIO2000sec103.xlsx\""
   ]
  },
  {
   "cell_type": "code",
   "execution_count": 211,
   "metadata": {},
   "outputs": [],
   "source": [
    "# Input-output table, including intermediate and final demand matrix\n",
    "ZYeconomy = pd.read_excel(FILEPATH, sheet_name = 'ZYeconomy',  index_col = 0)\n",
    "\n",
    "# Waste account, including intermediate and final demand matrix\n",
    "ZYwaste = pd.read_excel(FILEPATH, sheet_name = 'ZYwaste',  index_col = 0)\n",
    "\n",
    "# VA and satellite account\n",
    "F = pd.read_excel(FILEPATH, sheet_name = 'F',  index_col = 0)\n",
    "\n",
    "# Waste allocation matrix\n",
    "Q = pd.read_excel(FILEPATH, sheet_name = 'Allocation',  index_col = 0)\n",
    "\n",
    "# units\n",
    "unit  = pd.read_excel(FILEPATH, sheet_name = 'Units')\n",
    "unit = unit.set_index('name')"
   ]
  },
  {
   "attachments": {},
   "cell_type": "markdown",
   "metadata": {},
   "source": [
    "#### Get labels"
   ]
  },
  {
   "attachments": {},
   "cell_type": "markdown",
   "metadata": {},
   "source": [
    "|                 |   Economic sector    |    Waste treatment     |  **Y**             |\n",
    "|-----------------|----------------------|------------------------|--------------------|\n",
    "| Economic sector | **Z**<sub>E,E</sub>  |  **Z**<sub>E,WT</sub>  |  **Y**<sub>E</sub> |\n",
    "| Waste treatment | **Z**<sub>WT,E</sub> |  **Z**<sub>WT,WT</sub> | **Y**<sub>WT</sub> |\n",
    "| **r'**                                                        |||  **h**             |\n",
    "|   Emissions     | Econ. Sec. emissions | Waste Treat. emissions |      Emissions     |  \n",
    "\n",
    "*Table 2. Basic structure of a ZYeconomy table*"
   ]
  },
  {
   "attachments": {},
   "cell_type": "markdown",
   "metadata": {},
   "source": [
    "|                |   Economic sector     |    Waste treatment      |  **Y**              |\n",
    "|----------------|-----------------------|-------------------------|---------------------|\n",
    "| Waste inflows  | **Z**<sub>WI,E</sub>  |  **Z**<sub>WI,WT</sub>  |  **Y**<sub>WI</sub> |\n",
    "| Waste outflows | **Z**<sub>WO,E</sub>  |  **Z**<sub>WO,WT</sub>  | **Y**<sub>WO</sub>  |\n",
    "\n",
    "\n",
    "*Table 3. Basic structure of a ZYwaste table*"
   ]
  },
  {
   "attachments": {},
   "cell_type": "markdown",
   "metadata": {},
   "source": [
    "|                 |     Waste flows       |\n",
    "|-----------------|-----------------------|\n",
    "| Waste treatment |       **Q**           |\n",
    "\n",
    "\n",
    "*Table 4. Basic structure of a Allocation table*"
   ]
  },
  {
   "cell_type": "code",
   "execution_count": 171,
   "metadata": {},
   "outputs": [],
   "source": [
    "economic_sector_labels = ZYeconomy.index  \n",
    "waste_sector_labels = Q.index    \n",
    "waste_flow_labels = Q.columns    \n",
    "all_sector_labels = economic_sector_labels.append(waste_sector_labels)\n",
    "Y_labels = ZYeconomy.drop(columns=all_sector_labels).columns\n",
    "\n",
    "# Get labels for waste inflows / outflows (= Net Flows = Flows out - Flows in)\n",
    "MASK = ZYwaste.index.str.contains(\"Wo \\(\")\n",
    "waste_out_labels = ZYwaste.loc[MASK].index\n",
    "\n",
    "MASK = ZYwaste.index.str.contains('Wi \\(')\n",
    "waste_in_labels = ZYwaste.loc[MASK].index"
   ]
  },
  {
   "attachments": {},
   "cell_type": "markdown",
   "metadata": {},
   "source": [
    "#### Create WIOT table \n",
    "\n",
    "1. Compute net waste flows ($\\mathbf{Z}_{\\text{WF}} = \\mathbf{Z}_{\\text{WO}} - \\mathbf{Z}_{\\text{WI}}$)\n",
    "2. Convert waste flows into waste treatment ($\\mathbf{Z}_{\\text{WT}} = \\mathbf{QZ}_{\\text{WF}}$)\n"
   ]
  },
  {
   "attachments": {},
   "cell_type": "markdown",
   "metadata": {},
   "source": [
    "|                 |   Economic sector                                  |    Waste treatment     |  **Y**             |\n",
    "|-----------------|----------------------------------------------------|------------------------|--------------------|\n",
    "| Economic sector | **Z**<sub>E,E</sub>                                |  **Z**<sub>E,WT</sub>  |  **Y**<sub>E</sub> |\n",
    "| Waste treatment | **Q**(**Z**<sub>WO,E</sub> - **Z**<sub>WI,E</sub>) |  **Q**(**Z**<sub>WO,WT</sub> - **Z**<sub>WI,WT</sub>) |**Q**(**Y**<sub>WO</sub> - **Y**<sub>WI</sub>) |\n",
    "  \n",
    "*Table 5. Basic structure of a WIOT table*"
   ]
  },
  {
   "cell_type": "code",
   "execution_count": 172,
   "metadata": {},
   "outputs": [],
   "source": [
    "# Reorder labels to make sure to compute flows in the same order\n",
    "waste_flow_labels = waste_flow_labels.sort_values()\n",
    "waste_out_labels = waste_out_labels.sort_values()\n",
    "waste_in_labels = waste_in_labels.sort_values()\n",
    "\n",
    "# Create empty Dataframes to store calculation\n",
    "ZY_wf = pd.DataFrame(\n",
    "    data=np.nan, \n",
    "    index=waste_flow_labels, \n",
    "    columns=ZYeconomy.columns,\n",
    ")\n",
    "\n",
    "# Use loc to ensure to process rows in the same order\n",
    "ZY_wf.loc[waste_flow_labels] = ZYwaste.loc[waste_out_labels].values - ZYwaste.loc[waste_in_labels].values\n",
    "\n",
    "# Sanity Check\n",
    "if ZY_wf.isna().any().any():\n",
    "    raise ValueError('Missing net flows (nan values are present)')"
   ]
  },
  {
   "cell_type": "code",
   "execution_count": 173,
   "metadata": {},
   "outputs": [],
   "source": [
    "ZY_e = ZYeconomy.loc[economic_sector_labels, :]\n",
    "QZY_wf = Q @ ZY_wf\n",
    "\n",
    "WIOT = pd.concat([ZY_e, QZY_wf], axis=0)"
   ]
  },
  {
   "cell_type": "code",
   "execution_count": null,
   "metadata": {},
   "outputs": [],
   "source": [
    "Z_wiot = WIOT.loc[:, all_sector_labels]\n",
    "\n",
    "# Visualize result\n",
    "Z_wiot"
   ]
  },
  {
   "cell_type": "code",
   "execution_count": null,
   "metadata": {},
   "outputs": [],
   "source": [
    "Y_wiot = WIOT.loc[:, Y_labels]\n",
    "\n",
    "# Visualize result\n",
    "Y_wiot"
   ]
  },
  {
   "attachments": {},
   "cell_type": "markdown",
   "metadata": {},
   "source": [
    "## Exercise 3\n",
    "\n",
    "### From a consumption-based perspective, which are the major contributors to landfill area footprint?"
   ]
  },
  {
   "attachments": {},
   "cell_type": "markdown",
   "metadata": {},
   "source": [
    "#### Calculate Leontief inverse"
   ]
  },
  {
   "cell_type": "code",
   "execution_count": 176,
   "metadata": {},
   "outputs": [
    {
     "data": {
      "text/plain": [
       "Crop cultivation               8.964576e+06\n",
       "Livestock                      2.895422e+06\n",
       "Agricultural services          5.935290e+05\n",
       "Forestry                       1.753788e+06\n",
       "Fisheries                      2.280981e+06\n",
       "                                   ...     \n",
       "Shredding: TV sets             2.260000e+05\n",
       "Shredding: refrigerators       2.400000e+05\n",
       "Shredding: washing machines    1.130000e+05\n",
       "Shredding: air conditioners    1.540000e+05\n",
       "Shredding: automobiles         5.540376e+06\n",
       "Length: 116, dtype: float64"
      ]
     },
     "execution_count": 176,
     "metadata": {},
     "output_type": "execute_result"
    }
   ],
   "source": [
    "# Compute x\n",
    "x = WIOT.sum(axis=1)  # x  =  Ax + Y  =  Z + Y\n",
    "\n",
    "# Compute A\n",
    "A = Z_wiot / x.T\n",
    "A = A.replace([np.inf, -np.inf, np.nan], 0)  # ! don't forget to replace\n",
    "\n",
    "# Create an identity matrix the same order\n",
    "Id = np.identity(len(all_sector_labels))\n",
    "\n",
    "# Compute leontief inverse matrix in the Demand-pull model\n",
    "L_values = np.linalg.inv((Id - A))\n",
    "L = pd.DataFrame(\n",
    "    data=L_values,\n",
    "    index=all_sector_labels, \n",
    "    columns=all_sector_labels\n",
    ")"
   ]
  },
  {
   "attachments": {},
   "cell_type": "markdown",
   "metadata": {},
   "source": [
    "#### Calculate Landfill intensity"
   ]
  },
  {
   "cell_type": "code",
   "execution_count": 185,
   "metadata": {},
   "outputs": [],
   "source": [
    "# compute extension intensity \n",
    "f = F.loc[:, all_sector_labels] / x.T  # Don't keep the Y part\n",
    "f = f.replace([np.inf, -np.inf, np.nan], 0)  # ! don't forget to replace"
   ]
  },
  {
   "cell_type": "code",
   "execution_count": 186,
   "metadata": {},
   "outputs": [
    {
     "data": {
      "text/plain": [
       "Index(['Landfill area', 'Landfill volume'], dtype='object', name='category')"
      ]
     },
     "execution_count": 186,
     "metadata": {},
     "output_type": "execute_result"
    }
   ],
   "source": [
    "# select Landfill extension indicator\n",
    "MASK = f.index.str.contains(\"Landfill\")\n",
    "LANDFILL = f.loc[MASK].index\n",
    "LANDFILL"
   ]
  },
  {
   "attachments": {},
   "cell_type": "markdown",
   "metadata": {},
   "source": [
    "#### Calculate landfill footprint per economic sector (LF)"
   ]
  },
  {
   "cell_type": "code",
   "execution_count": 197,
   "metadata": {},
   "outputs": [
    {
     "data": {
      "text/html": [
       "<div>\n",
       "<style scoped>\n",
       "    .dataframe tbody tr th:only-of-type {\n",
       "        vertical-align: middle;\n",
       "    }\n",
       "\n",
       "    .dataframe tbody tr th {\n",
       "        vertical-align: top;\n",
       "    }\n",
       "\n",
       "    .dataframe thead th {\n",
       "        text-align: right;\n",
       "    }\n",
       "</style>\n",
       "<table border=\"1\" class=\"dataframe\">\n",
       "  <thead>\n",
       "    <tr style=\"text-align: right;\">\n",
       "      <th></th>\n",
       "      <th>Consumption expenditure outside households (column)</th>\n",
       "      <th>Consumption expenditure of households</th>\n",
       "      <th>Consumption expenditure of private non-profit institutions serving households</th>\n",
       "      <th>Consumption expenditure of general government</th>\n",
       "      <th>Consumption expenditure of general government (social fixed capital depreciation)</th>\n",
       "      <th>Gross domestic fixed capital formation (public)</th>\n",
       "      <th>Gross domestic fixed capital formation (private)</th>\n",
       "      <th>Increase in stocks</th>\n",
       "      <th>Exports</th>\n",
       "      <th>Exports (direct purchase)</th>\n",
       "      <th>Balancing sector</th>\n",
       "    </tr>\n",
       "  </thead>\n",
       "  <tbody>\n",
       "    <tr>\n",
       "      <th>Crop cultivation</th>\n",
       "      <td>-13428.911569</td>\n",
       "      <td>-6.104405e+05</td>\n",
       "      <td>-0.0</td>\n",
       "      <td>-0.0</td>\n",
       "      <td>-0.0</td>\n",
       "      <td>-0.0</td>\n",
       "      <td>-8988.882460</td>\n",
       "      <td>-3895.297665</td>\n",
       "      <td>-2402.066325</td>\n",
       "      <td>-16.883013</td>\n",
       "      <td>-114.316307</td>\n",
       "    </tr>\n",
       "    <tr>\n",
       "      <th>Livestock</th>\n",
       "      <td>-0.000000</td>\n",
       "      <td>-3.197661e+05</td>\n",
       "      <td>-0.0</td>\n",
       "      <td>-0.0</td>\n",
       "      <td>-0.0</td>\n",
       "      <td>-0.0</td>\n",
       "      <td>-227497.653653</td>\n",
       "      <td>-58405.134782</td>\n",
       "      <td>-1255.663920</td>\n",
       "      <td>-16.762504</td>\n",
       "      <td>-60.954559</td>\n",
       "    </tr>\n",
       "    <tr>\n",
       "      <th>Agricultural services</th>\n",
       "      <td>-0.000000</td>\n",
       "      <td>-3.817199e+04</td>\n",
       "      <td>-0.0</td>\n",
       "      <td>-0.0</td>\n",
       "      <td>-0.0</td>\n",
       "      <td>-0.0</td>\n",
       "      <td>-0.000000</td>\n",
       "      <td>-0.000000</td>\n",
       "      <td>-0.000000</td>\n",
       "      <td>-0.000000</td>\n",
       "      <td>-0.000000</td>\n",
       "    </tr>\n",
       "    <tr>\n",
       "      <th>Forestry</th>\n",
       "      <td>224.094735</td>\n",
       "      <td>1.002796e+04</td>\n",
       "      <td>0.0</td>\n",
       "      <td>0.0</td>\n",
       "      <td>0.0</td>\n",
       "      <td>0.0</td>\n",
       "      <td>0.000000</td>\n",
       "      <td>36417.673509</td>\n",
       "      <td>82.956343</td>\n",
       "      <td>0.053624</td>\n",
       "      <td>3.271065</td>\n",
       "    </tr>\n",
       "    <tr>\n",
       "      <th>Fisheries</th>\n",
       "      <td>-2718.583840</td>\n",
       "      <td>-5.070483e+04</td>\n",
       "      <td>-0.0</td>\n",
       "      <td>-0.0</td>\n",
       "      <td>-0.0</td>\n",
       "      <td>-0.0</td>\n",
       "      <td>-0.000000</td>\n",
       "      <td>-4798.870108</td>\n",
       "      <td>-7102.482938</td>\n",
       "      <td>-6.077793</td>\n",
       "      <td>-272.724793</td>\n",
       "    </tr>\n",
       "    <tr>\n",
       "      <th>...</th>\n",
       "      <td>...</td>\n",
       "      <td>...</td>\n",
       "      <td>...</td>\n",
       "      <td>...</td>\n",
       "      <td>...</td>\n",
       "      <td>...</td>\n",
       "      <td>...</td>\n",
       "      <td>...</td>\n",
       "      <td>...</td>\n",
       "      <td>...</td>\n",
       "      <td>...</td>\n",
       "    </tr>\n",
       "    <tr>\n",
       "      <th>Shredding: TV sets</th>\n",
       "      <td>0.000000</td>\n",
       "      <td>6.246998e+05</td>\n",
       "      <td>0.0</td>\n",
       "      <td>0.0</td>\n",
       "      <td>0.0</td>\n",
       "      <td>0.0</td>\n",
       "      <td>0.000000</td>\n",
       "      <td>0.000000</td>\n",
       "      <td>0.000000</td>\n",
       "      <td>0.000000</td>\n",
       "      <td>0.000000</td>\n",
       "    </tr>\n",
       "    <tr>\n",
       "      <th>Shredding: refrigerators</th>\n",
       "      <td>0.000000</td>\n",
       "      <td>6.597567e+05</td>\n",
       "      <td>0.0</td>\n",
       "      <td>0.0</td>\n",
       "      <td>0.0</td>\n",
       "      <td>0.0</td>\n",
       "      <td>0.000000</td>\n",
       "      <td>0.000000</td>\n",
       "      <td>0.000000</td>\n",
       "      <td>0.000000</td>\n",
       "      <td>0.000000</td>\n",
       "    </tr>\n",
       "    <tr>\n",
       "      <th>Shredding: washing machines</th>\n",
       "      <td>0.000000</td>\n",
       "      <td>3.123499e+05</td>\n",
       "      <td>0.0</td>\n",
       "      <td>0.0</td>\n",
       "      <td>0.0</td>\n",
       "      <td>0.0</td>\n",
       "      <td>0.000000</td>\n",
       "      <td>0.000000</td>\n",
       "      <td>0.000000</td>\n",
       "      <td>0.000000</td>\n",
       "      <td>0.000000</td>\n",
       "    </tr>\n",
       "    <tr>\n",
       "      <th>Shredding: air conditioners</th>\n",
       "      <td>0.000000</td>\n",
       "      <td>4.214322e+05</td>\n",
       "      <td>0.0</td>\n",
       "      <td>0.0</td>\n",
       "      <td>0.0</td>\n",
       "      <td>0.0</td>\n",
       "      <td>0.000000</td>\n",
       "      <td>0.000000</td>\n",
       "      <td>0.000000</td>\n",
       "      <td>0.000000</td>\n",
       "      <td>0.000000</td>\n",
       "    </tr>\n",
       "    <tr>\n",
       "      <th>Shredding: automobiles</th>\n",
       "      <td>0.000000</td>\n",
       "      <td>1.487708e+07</td>\n",
       "      <td>0.0</td>\n",
       "      <td>0.0</td>\n",
       "      <td>0.0</td>\n",
       "      <td>0.0</td>\n",
       "      <td>0.000000</td>\n",
       "      <td>0.000000</td>\n",
       "      <td>0.000000</td>\n",
       "      <td>0.000000</td>\n",
       "      <td>0.000000</td>\n",
       "    </tr>\n",
       "  </tbody>\n",
       "</table>\n",
       "<p>116 rows × 11 columns</p>\n",
       "</div>"
      ],
      "text/plain": [
       "                             Consumption expenditure outside households (column)  \\\n",
       "Crop cultivation                                                 -13428.911569     \n",
       "Livestock                                                            -0.000000     \n",
       "Agricultural services                                                -0.000000     \n",
       "Forestry                                                            224.094735     \n",
       "Fisheries                                                         -2718.583840     \n",
       "...                                                                        ...     \n",
       "Shredding: TV sets                                                    0.000000     \n",
       "Shredding: refrigerators                                              0.000000     \n",
       "Shredding: washing machines                                           0.000000     \n",
       "Shredding: air conditioners                                           0.000000     \n",
       "Shredding: automobiles                                                0.000000     \n",
       "\n",
       "                             Consumption expenditure of households  \\\n",
       "Crop cultivation                                     -6.104405e+05   \n",
       "Livestock                                            -3.197661e+05   \n",
       "Agricultural services                                -3.817199e+04   \n",
       "Forestry                                              1.002796e+04   \n",
       "Fisheries                                            -5.070483e+04   \n",
       "...                                                            ...   \n",
       "Shredding: TV sets                                    6.246998e+05   \n",
       "Shredding: refrigerators                              6.597567e+05   \n",
       "Shredding: washing machines                           3.123499e+05   \n",
       "Shredding: air conditioners                           4.214322e+05   \n",
       "Shredding: automobiles                                1.487708e+07   \n",
       "\n",
       "                             Consumption expenditure of private non-profit institutions serving households  \\\n",
       "Crop cultivation                                                          -0.0                               \n",
       "Livestock                                                                 -0.0                               \n",
       "Agricultural services                                                     -0.0                               \n",
       "Forestry                                                                   0.0                               \n",
       "Fisheries                                                                 -0.0                               \n",
       "...                                                                        ...                               \n",
       "Shredding: TV sets                                                         0.0                               \n",
       "Shredding: refrigerators                                                   0.0                               \n",
       "Shredding: washing machines                                                0.0                               \n",
       "Shredding: air conditioners                                                0.0                               \n",
       "Shredding: automobiles                                                     0.0                               \n",
       "\n",
       "                             Consumption expenditure of general government  \\\n",
       "Crop cultivation                                                      -0.0   \n",
       "Livestock                                                             -0.0   \n",
       "Agricultural services                                                 -0.0   \n",
       "Forestry                                                               0.0   \n",
       "Fisheries                                                             -0.0   \n",
       "...                                                                    ...   \n",
       "Shredding: TV sets                                                     0.0   \n",
       "Shredding: refrigerators                                               0.0   \n",
       "Shredding: washing machines                                            0.0   \n",
       "Shredding: air conditioners                                            0.0   \n",
       "Shredding: automobiles                                                 0.0   \n",
       "\n",
       "                             Consumption expenditure of general government (social fixed capital depreciation)  \\\n",
       "Crop cultivation                                                          -0.0                                   \n",
       "Livestock                                                                 -0.0                                   \n",
       "Agricultural services                                                     -0.0                                   \n",
       "Forestry                                                                   0.0                                   \n",
       "Fisheries                                                                 -0.0                                   \n",
       "...                                                                        ...                                   \n",
       "Shredding: TV sets                                                         0.0                                   \n",
       "Shredding: refrigerators                                                   0.0                                   \n",
       "Shredding: washing machines                                                0.0                                   \n",
       "Shredding: air conditioners                                                0.0                                   \n",
       "Shredding: automobiles                                                     0.0                                   \n",
       "\n",
       "                             Gross domestic fixed capital formation (public)  \\\n",
       "Crop cultivation                                                        -0.0   \n",
       "Livestock                                                               -0.0   \n",
       "Agricultural services                                                   -0.0   \n",
       "Forestry                                                                 0.0   \n",
       "Fisheries                                                               -0.0   \n",
       "...                                                                      ...   \n",
       "Shredding: TV sets                                                       0.0   \n",
       "Shredding: refrigerators                                                 0.0   \n",
       "Shredding: washing machines                                              0.0   \n",
       "Shredding: air conditioners                                              0.0   \n",
       "Shredding: automobiles                                                   0.0   \n",
       "\n",
       "                             Gross domestic fixed capital formation (private)  \\\n",
       "Crop cultivation                                                 -8988.882460   \n",
       "Livestock                                                      -227497.653653   \n",
       "Agricultural services                                               -0.000000   \n",
       "Forestry                                                             0.000000   \n",
       "Fisheries                                                           -0.000000   \n",
       "...                                                                       ...   \n",
       "Shredding: TV sets                                                   0.000000   \n",
       "Shredding: refrigerators                                             0.000000   \n",
       "Shredding: washing machines                                          0.000000   \n",
       "Shredding: air conditioners                                          0.000000   \n",
       "Shredding: automobiles                                               0.000000   \n",
       "\n",
       "                             Increase in stocks      Exports  \\\n",
       "Crop cultivation                   -3895.297665 -2402.066325   \n",
       "Livestock                         -58405.134782 -1255.663920   \n",
       "Agricultural services                 -0.000000    -0.000000   \n",
       "Forestry                           36417.673509    82.956343   \n",
       "Fisheries                          -4798.870108 -7102.482938   \n",
       "...                                         ...          ...   \n",
       "Shredding: TV sets                     0.000000     0.000000   \n",
       "Shredding: refrigerators               0.000000     0.000000   \n",
       "Shredding: washing machines            0.000000     0.000000   \n",
       "Shredding: air conditioners            0.000000     0.000000   \n",
       "Shredding: automobiles                 0.000000     0.000000   \n",
       "\n",
       "                             Exports (direct purchase)  Balancing sector  \n",
       "Crop cultivation                            -16.883013       -114.316307  \n",
       "Livestock                                   -16.762504        -60.954559  \n",
       "Agricultural services                        -0.000000         -0.000000  \n",
       "Forestry                                      0.053624          3.271065  \n",
       "Fisheries                                    -6.077793       -272.724793  \n",
       "...                                                ...               ...  \n",
       "Shredding: TV sets                            0.000000          0.000000  \n",
       "Shredding: refrigerators                      0.000000          0.000000  \n",
       "Shredding: washing machines                   0.000000          0.000000  \n",
       "Shredding: air conditioners                   0.000000          0.000000  \n",
       "Shredding: automobiles                        0.000000          0.000000  \n",
       "\n",
       "[116 rows x 11 columns]"
      ]
     },
     "execution_count": 197,
     "metadata": {},
     "output_type": "execute_result"
    }
   ],
   "source": [
    "f_landfill_area = f.loc['Landfill area']\n",
    "fLdiagY_landfill_area = (f_landfill_area @ L) * Y_wiot.T\n",
    "fLdiagY_landfill_area = fLdiagY_landfill_area.T\n",
    "fLdiagY_landfill_area"
   ]
  },
  {
   "cell_type": "code",
   "execution_count": 199,
   "metadata": {},
   "outputs": [
    {
     "data": {
      "text/plain": [
       "Landfill                                    7.417132e+07\n",
       "Building construction                       6.785285e+07\n",
       "Water supply                                1.493733e+07\n",
       "Shredding: automobiles                      1.487708e+07\n",
       "Other civil engineering and construction    1.003893e+07\n",
       "dtype: float64"
      ]
     },
     "execution_count": 199,
     "metadata": {},
     "output_type": "execute_result"
    }
   ],
   "source": [
    "fLdiagY_landfill_area.sum(axis=1).nlargest(5)\n",
    "\n",
    "# Uncomment to check unit of Landfill area\n",
    "# unit.loc['Landfill area']"
   ]
  },
  {
   "cell_type": "code",
   "execution_count": 200,
   "metadata": {},
   "outputs": [
    {
     "data": {
      "text/plain": [
       "Landfill                                    3.286210e+07\n",
       "Building construction                       3.006266e+07\n",
       "Water supply                                6.618085e+06\n",
       "Shredding: automobiles                      6.591388e+06\n",
       "Other civil engineering and construction    4.447814e+06\n",
       "dtype: float64"
      ]
     },
     "execution_count": 200,
     "metadata": {},
     "output_type": "execute_result"
    }
   ],
   "source": [
    "# similarly, the landfill footprint expressed in terms of Volume\n",
    "f_landfill_volume = f.loc['Landfill volume']\n",
    "fLdiagY_landfill_volume = (f_landfill_volume @ L) * Y_wiot.T\n",
    "fLdiagY_landfill_volume = fLdiagY_landfill_volume.T\n",
    "fLdiagY_landfill_volume.sum(axis=1).nlargest(5)\n",
    "\n",
    "# Uncomment to check unit of Landfill area\n",
    "# unit.loc['Landfill volume']"
   ]
  },
  {
   "cell_type": "markdown",
   "metadata": {},
   "source": [
    "### Credits\n",
    "\n",
    "First version of the exercise developed by dr. J.F.D. Rodrigues, improvements by dr. G.A. Aguilar Hernandez (2022) and F. Donati (2023)  "
   ]
  }
 ],
 "metadata": {
  "kernelspec": {
   "display_name": "Python 3 (ipykernel)",
   "language": "python",
   "name": "python3"
  },
  "language_info": {
   "codemirror_mode": {
    "name": "ipython",
    "version": 3
   },
   "file_extension": ".py",
   "mimetype": "text/x-python",
   "name": "python",
   "nbconvert_exporter": "python",
   "pygments_lexer": "ipython3",
   "version": "3.9.16"
  }
 },
 "nbformat": 4,
 "nbformat_minor": 2
}
