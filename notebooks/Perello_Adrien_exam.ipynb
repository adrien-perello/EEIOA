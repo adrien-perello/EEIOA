{
 "cells": [
  {
   "attachments": {},
   "cell_type": "markdown",
   "metadata": {
    "slideshow": {
     "slide_type": "slide"
    }
   },
   "source": [
    "# Mid-term exam: 11 April 2023\n",
    "\n",
    "## Topic of the exam: Pre-BREXIT analysis of Non-metallic Minerals vs. Metal Ores. \n",
    "\n",
    "Please ensure that you run each cell (ctrl+enter) so that your inputs are saved \n",
    "\n",
    "All questions have either coding cell or a text cell, or a combination of the two. \n",
    "\n",
    "You are allowed to create additional cells for each answer to facilitate your work  "
   ]
  },
  {
   "cell_type": "code",
   "execution_count": 1,
   "metadata": {},
   "outputs": [],
   "source": [
    "# Import modules\n",
    "import pandas as pd\n",
    "import numpy as np\n",
    "\n",
    "# Set pandas number format\n",
    "pd.options.display.float_format = '{:,.2f}'.format"
   ]
  },
  {
   "attachments": {},
   "cell_type": "markdown",
   "metadata": {
    "slideshow": {
     "slide_type": "slide"
    }
   },
   "source": [
    "## Data preparation: Download and import exiobase"
   ]
  },
  {
   "attachments": {},
   "cell_type": "markdown",
   "metadata": {},
   "source": [
    "Data to be used in the exam: **year 2016 industry-by-industry format**\n",
    "\n",
    "Link to the data: https://zenodo.org/record/5589597"
   ]
  },
  {
   "attachments": {},
   "cell_type": "markdown",
   "metadata": {},
   "source": [
    "#### Import Exiobase data"
   ]
  },
  {
   "cell_type": "code",
   "execution_count": 2,
   "metadata": {},
   "outputs": [],
   "source": [
    "dir_path = \"../data/exiobase/_ixi/IOT_2016_ixi/\""
   ]
  },
  {
   "cell_type": "code",
   "execution_count": 3,
   "metadata": {},
   "outputs": [],
   "source": [
    "# Import A, Y, F and F_Y (from SATELLITE)\n",
    "# ! 'A' is a large datasets, mind load time\n",
    "A = pd.read_csv(f'{dir_path}A.txt', delimiter=\"\\t\", header=[0,1], index_col=[0,1])\n",
    "Y = pd.read_csv(f'{dir_path}Y.txt', delimiter=\"\\t\", header=[0,1], index_col=[0,1])\n",
    "# ! we use the satellite folder this time because we will look at uncharacterized stressors (CO2 emission vs GWP100)\n",
    "F = pd.read_csv(f'{dir_path}satellite/F.txt', delimiter=\"\\t\", header=[0,1], index_col=[0])\n",
    "F_y = pd.read_csv(f'{dir_path}satellite/F_Y.txt', delimiter=\"\\t\", header=[0,1], index_col=[0])\n",
    "F_unit = pd.read_csv(f'{dir_path}satellite/unit.txt', delimiter=\"\\t\", header=0, index_col=[0])"
   ]
  },
  {
   "attachments": {},
   "cell_type": "markdown",
   "metadata": {},
   "source": [
    "#### Get labels"
   ]
  },
  {
   "cell_type": "code",
   "execution_count": 4,
   "metadata": {},
   "outputs": [],
   "source": [
    "# get multiindex\n",
    "region_and_sector_labels = A.index\n",
    "\n",
    "# get each level using  'get_level_values()'\n",
    "region_labels = A.index.get_level_values(level=0).unique()\n",
    "sector_labels = A.index.get_level_values(level=1).unique()"
   ]
  },
  {
   "attachments": {},
   "cell_type": "markdown",
   "metadata": {},
   "source": [
    "#### Input-Output calculations\n",
    "##### Leontief inverse"
   ]
  },
  {
   "cell_type": "code",
   "execution_count": 5,
   "metadata": {},
   "outputs": [],
   "source": [
    "# Create an identity matrix the same order\n",
    "Id = np.identity(len(region_and_sector_labels))\n",
    "\n",
    "# Compute leontief inverse matrix in the Demand-pull model\n",
    "L_values = np.linalg.inv((Id - A))\n",
    "L = pd.DataFrame(\n",
    "    data=L_values,\n",
    "    index=region_and_sector_labels, \n",
    "    columns=region_and_sector_labels\n",
    ")\n",
    "\n",
    "# we also save LY to avoid repeating calculations\n",
    "LY = L @ Y"
   ]
  },
  {
   "attachments": {},
   "cell_type": "markdown",
   "metadata": {},
   "source": [
    "##### Product output X\n",
    "\n",
    "$\\mathbf{x} = \\mathbf{Ax} + \\mathbf{Y} = \\mathbf{LY}$"
   ]
  },
  {
   "cell_type": "code",
   "execution_count": 6,
   "metadata": {},
   "outputs": [],
   "source": [
    "# Compute using L\n",
    "x = LY.sum(axis=1)"
   ]
  },
  {
   "attachments": {},
   "cell_type": "markdown",
   "metadata": {},
   "source": [
    "##### Sanity check\n",
    "\n",
    "- $\\mathbf{x} = \\mathbf{Z} + \\mathbf{Y} = \\mathbf{Z} + \\mathbf{V}$  \n",
    "- $\\mathbf{Z} = \\mathbf{A\\hat{x}}$"
   ]
  },
  {
   "cell_type": "code",
   "execution_count": 7,
   "metadata": {},
   "outputs": [],
   "source": [
    "# Compute x_in and x_out, using Z\n",
    "Z = A * x  # = A @ np.diag(X)  --> see Practical 4\n",
    "x_in = Z.sum(axis=1) + Y.sum(axis=1)\n",
    "\n",
    "# Get X reference from Exiobase\n",
    "x_exio = pd.read_csv(f'{dir_path}x.txt', delimiter=\"\\t\", header=0, index_col=[0,1])  # ! header = 0, not [0,1]\n",
    "\n",
    "# Compare Xs\n",
    "# ! x_exio is a dataframe --> take the 'indout' columns to get a pd.Series for comparison\n",
    "if not np.allclose(x, x_exio['indout']):\n",
    "    raise ValueError('Discrepancy with x')\n",
    "\n",
    "if not np.allclose(x_in, x_exio['indout']):\n",
    "    raise ValueError('Discrepancy with x_in')"
   ]
  },
  {
   "attachments": {},
   "cell_type": "markdown",
   "metadata": {},
   "source": [
    "##### Environmental intensity"
   ]
  },
  {
   "cell_type": "code",
   "execution_count": 9,
   "metadata": {},
   "outputs": [],
   "source": [
    "# compute extension intensity\n",
    "f = F / x.T\n",
    "f = f.replace([np.inf, -np.inf, np.nan], 0)  # ! don't forget to replace"
   ]
  },
  {
   "attachments": {},
   "cell_type": "markdown",
   "metadata": {
    "slideshow": {
     "slide_type": "slide"
    }
   },
   "source": [
    "## Question 1: Territorial accounting (10 points)"
   ]
  },
  {
   "attachments": {},
   "cell_type": "markdown",
   "metadata": {
    "slideshow": {
     "slide_type": "fragment"
    }
   },
   "source": [
    "### Q1.1 What was the UK's domestic extractions of non-metallic minerals in 2016? (10 points) \n",
    "Hint 1: use the environmental extensions with keywords: \"Domestic Extraction Used - Non-Metallic Minerals\"\n",
    "\n",
    "Hint 2: UK's acronym is GB (i.e., Great Britain) in ISO3 "
   ]
  },
  {
   "cell_type": "code",
   "execution_count": 10,
   "metadata": {},
   "outputs": [
    {
     "data": {
      "text/plain": [
       "Index(['Domestic Extraction Used - Non-Metallic Minerals - Building stones',\n",
       "       'Domestic Extraction Used - Non-Metallic Minerals - Chemical and fertilizer minerals',\n",
       "       'Domestic Extraction Used - Non-Metallic Minerals - Clays and kaolin',\n",
       "       'Domestic Extraction Used - Non-Metallic Minerals - Gravel and sand',\n",
       "       'Domestic Extraction Used - Non-Metallic Minerals - Limestone, gypsum, chalk, dolomite',\n",
       "       'Domestic Extraction Used - Non-Metallic Minerals - Other minerals',\n",
       "       'Domestic Extraction Used - Non-Metallic Minerals - Salt',\n",
       "       'Domestic Extraction Used - Non-Metallic Minerals - Slate'],\n",
       "      dtype='object', name='stressor')"
      ]
     },
     "execution_count": 10,
     "metadata": {},
     "output_type": "execute_result"
    }
   ],
   "source": [
    "# Select the country of interest\n",
    "country = 'GB'\n",
    "\n",
    "# select extension indicator\n",
    "MASK = f.index.str.contains(\"Domestic Extraction Used - Non-Metallic Minerals\")\n",
    "MINERALS = f.loc[MASK].index\n",
    "\n",
    "# Display results\n",
    "MINERALS"
   ]
  },
  {
   "cell_type": "code",
   "execution_count": 18,
   "metadata": {},
   "outputs": [
    {
     "data": {
      "text/plain": [
       "array(['kt'], dtype=object)"
      ]
     },
     "execution_count": 18,
     "metadata": {},
     "output_type": "execute_result"
    }
   ],
   "source": [
    "# Check that every indicator has the same unit (kt)\n",
    "F_unit.loc[MINERALS]['unit'].unique()"
   ]
  },
  {
   "cell_type": "code",
   "execution_count": 15,
   "metadata": {},
   "outputs": [
    {
     "name": "stdout",
     "output_type": "stream",
     "text": [
      "(8, 7987)\n",
      "(8, 343)\n"
     ]
    }
   ],
   "source": [
    "# set variables\n",
    "f_minerals = f.loc[MINERALS]\n",
    "F_y_minerals = F_y.loc[MINERALS]\n",
    "\n",
    "# Reminder\n",
    "print(f_minerals.shape)\n",
    "print(F_y_minerals.shape)"
   ]
  },
  {
   "cell_type": "code",
   "execution_count": 27,
   "metadata": {},
   "outputs": [
    {
     "data": {
      "text/plain": [
       "category\n",
       "Final consumption expenditure by households                                            0.00\n",
       "Final consumption expenditure by non-profit organisations serving households (NPISH)   0.00\n",
       "Final consumption expenditure by government                                            0.00\n",
       "Gross fixed capital formation                                                          0.00\n",
       "Changes in inventories                                                                 0.00\n",
       "Changes in valuables                                                                   0.00\n",
       "Exports: Total (fob)                                                                   0.00\n",
       "dtype: float64"
      ]
     },
     "execution_count": 27,
     "metadata": {},
     "output_type": "execute_result"
    }
   ],
   "source": [
    "# Check if F_y = 0 (for the country selected)\n",
    "F_y_minerals.loc[:, country].sum()"
   ]
  },
  {
   "cell_type": "code",
   "execution_count": 19,
   "metadata": {},
   "outputs": [
    {
     "name": "stdout",
     "output_type": "stream",
     "text": [
      "units are in kg (instead of kt)\n",
      "\n"
     ]
    },
    {
     "data": {
      "text/html": [
       "<div>\n",
       "<style scoped>\n",
       "    .dataframe tbody tr th:only-of-type {\n",
       "        vertical-align: middle;\n",
       "    }\n",
       "\n",
       "    .dataframe tbody tr th {\n",
       "        vertical-align: top;\n",
       "    }\n",
       "\n",
       "    .dataframe thead tr th {\n",
       "        text-align: left;\n",
       "    }\n",
       "\n",
       "    .dataframe thead tr:last-of-type th {\n",
       "        text-align: right;\n",
       "    }\n",
       "</style>\n",
       "<table border=\"1\" class=\"dataframe\">\n",
       "  <thead>\n",
       "    <tr>\n",
       "      <th>region</th>\n",
       "      <th colspan=\"10\" halign=\"left\">AT</th>\n",
       "      <th>...</th>\n",
       "      <th colspan=\"10\" halign=\"left\">WM</th>\n",
       "    </tr>\n",
       "    <tr>\n",
       "      <th>sector</th>\n",
       "      <th>Cultivation of paddy rice</th>\n",
       "      <th>Cultivation of wheat</th>\n",
       "      <th>Cultivation of cereal grains nec</th>\n",
       "      <th>Cultivation of vegetables, fruit, nuts</th>\n",
       "      <th>Cultivation of oil seeds</th>\n",
       "      <th>Cultivation of sugar cane, sugar beet</th>\n",
       "      <th>Cultivation of plant-based fibers</th>\n",
       "      <th>Cultivation of crops nec</th>\n",
       "      <th>Cattle farming</th>\n",
       "      <th>Pigs farming</th>\n",
       "      <th>...</th>\n",
       "      <th>Landfill of waste: Paper</th>\n",
       "      <th>Landfill of waste: Plastic</th>\n",
       "      <th>Landfill of waste: Inert/metal/hazardous</th>\n",
       "      <th>Landfill of waste: Textiles</th>\n",
       "      <th>Landfill of waste: Wood</th>\n",
       "      <th>Activities of membership organisation n.e.c. (91)</th>\n",
       "      <th>Recreational, cultural and sporting activities (92)</th>\n",
       "      <th>Other service activities (93)</th>\n",
       "      <th>Private households with employed persons (95)</th>\n",
       "      <th>Extra-territorial organizations and bodies</th>\n",
       "    </tr>\n",
       "    <tr>\n",
       "      <th>stressor</th>\n",
       "      <th></th>\n",
       "      <th></th>\n",
       "      <th></th>\n",
       "      <th></th>\n",
       "      <th></th>\n",
       "      <th></th>\n",
       "      <th></th>\n",
       "      <th></th>\n",
       "      <th></th>\n",
       "      <th></th>\n",
       "      <th></th>\n",
       "      <th></th>\n",
       "      <th></th>\n",
       "      <th></th>\n",
       "      <th></th>\n",
       "      <th></th>\n",
       "      <th></th>\n",
       "      <th></th>\n",
       "      <th></th>\n",
       "      <th></th>\n",
       "      <th></th>\n",
       "    </tr>\n",
       "  </thead>\n",
       "  <tbody>\n",
       "    <tr>\n",
       "      <th>Domestic Extraction Used - Non-Metallic Minerals - Building stones</th>\n",
       "      <td>0.00</td>\n",
       "      <td>0.00</td>\n",
       "      <td>0.00</td>\n",
       "      <td>0.00</td>\n",
       "      <td>0.00</td>\n",
       "      <td>0.00</td>\n",
       "      <td>0.00</td>\n",
       "      <td>0.00</td>\n",
       "      <td>0.00</td>\n",
       "      <td>0.00</td>\n",
       "      <td>...</td>\n",
       "      <td>0.00</td>\n",
       "      <td>0.00</td>\n",
       "      <td>0.00</td>\n",
       "      <td>0.00</td>\n",
       "      <td>0.00</td>\n",
       "      <td>0.00</td>\n",
       "      <td>0.00</td>\n",
       "      <td>0.00</td>\n",
       "      <td>0.00</td>\n",
       "      <td>0.00</td>\n",
       "    </tr>\n",
       "    <tr>\n",
       "      <th>Domestic Extraction Used - Non-Metallic Minerals - Chemical and fertilizer minerals</th>\n",
       "      <td>0.00</td>\n",
       "      <td>0.00</td>\n",
       "      <td>0.00</td>\n",
       "      <td>0.00</td>\n",
       "      <td>0.00</td>\n",
       "      <td>0.00</td>\n",
       "      <td>0.00</td>\n",
       "      <td>16,355.30</td>\n",
       "      <td>0.00</td>\n",
       "      <td>0.00</td>\n",
       "      <td>...</td>\n",
       "      <td>277,128,758.05</td>\n",
       "      <td>26,292,090.74</td>\n",
       "      <td>65,431,275.73</td>\n",
       "      <td>46,603,808.94</td>\n",
       "      <td>59,363,566.64</td>\n",
       "      <td>0.00</td>\n",
       "      <td>34,788,298.75</td>\n",
       "      <td>0.00</td>\n",
       "      <td>247,895,916.20</td>\n",
       "      <td>0.00</td>\n",
       "    </tr>\n",
       "    <tr>\n",
       "      <th>Domestic Extraction Used - Non-Metallic Minerals - Clays and kaolin</th>\n",
       "      <td>0.00</td>\n",
       "      <td>0.00</td>\n",
       "      <td>0.00</td>\n",
       "      <td>0.00</td>\n",
       "      <td>0.00</td>\n",
       "      <td>0.00</td>\n",
       "      <td>0.00</td>\n",
       "      <td>9,029.84</td>\n",
       "      <td>0.00</td>\n",
       "      <td>0.00</td>\n",
       "      <td>...</td>\n",
       "      <td>9.98</td>\n",
       "      <td>0.92</td>\n",
       "      <td>2.65</td>\n",
       "      <td>1.68</td>\n",
       "      <td>2.15</td>\n",
       "      <td>0.00</td>\n",
       "      <td>10.33</td>\n",
       "      <td>0.00</td>\n",
       "      <td>17.97</td>\n",
       "      <td>0.00</td>\n",
       "    </tr>\n",
       "    <tr>\n",
       "      <th>Domestic Extraction Used - Non-Metallic Minerals - Gravel and sand</th>\n",
       "      <td>0.00</td>\n",
       "      <td>0.00</td>\n",
       "      <td>0.00</td>\n",
       "      <td>0.00</td>\n",
       "      <td>0.00</td>\n",
       "      <td>0.00</td>\n",
       "      <td>0.00</td>\n",
       "      <td>20,657,884.20</td>\n",
       "      <td>0.00</td>\n",
       "      <td>0.00</td>\n",
       "      <td>...</td>\n",
       "      <td>1,020.67</td>\n",
       "      <td>94.16</td>\n",
       "      <td>270.49</td>\n",
       "      <td>171.76</td>\n",
       "      <td>220.37</td>\n",
       "      <td>0.00</td>\n",
       "      <td>1,056.04</td>\n",
       "      <td>0.00</td>\n",
       "      <td>1,837.45</td>\n",
       "      <td>0.00</td>\n",
       "    </tr>\n",
       "    <tr>\n",
       "      <th>Domestic Extraction Used - Non-Metallic Minerals - Limestone, gypsum, chalk, dolomite</th>\n",
       "      <td>0.00</td>\n",
       "      <td>0.00</td>\n",
       "      <td>0.00</td>\n",
       "      <td>0.00</td>\n",
       "      <td>0.00</td>\n",
       "      <td>0.00</td>\n",
       "      <td>0.00</td>\n",
       "      <td>239,459.14</td>\n",
       "      <td>0.00</td>\n",
       "      <td>0.00</td>\n",
       "      <td>...</td>\n",
       "      <td>234,449,823.39</td>\n",
       "      <td>22,243,014.38</td>\n",
       "      <td>55,354,622.58</td>\n",
       "      <td>39,426,635.40</td>\n",
       "      <td>50,221,339.46</td>\n",
       "      <td>0.00</td>\n",
       "      <td>29,430,933.44</td>\n",
       "      <td>0.00</td>\n",
       "      <td>209,719,047.75</td>\n",
       "      <td>0.00</td>\n",
       "    </tr>\n",
       "    <tr>\n",
       "      <th>Domestic Extraction Used - Non-Metallic Minerals - Other minerals</th>\n",
       "      <td>0.00</td>\n",
       "      <td>0.00</td>\n",
       "      <td>0.00</td>\n",
       "      <td>0.00</td>\n",
       "      <td>0.00</td>\n",
       "      <td>0.00</td>\n",
       "      <td>0.00</td>\n",
       "      <td>46,728,666.03</td>\n",
       "      <td>0.00</td>\n",
       "      <td>0.00</td>\n",
       "      <td>...</td>\n",
       "      <td>33,931,749.67</td>\n",
       "      <td>3,219,199.97</td>\n",
       "      <td>8,011,581.51</td>\n",
       "      <td>5,706,188.51</td>\n",
       "      <td>7,268,506.33</td>\n",
       "      <td>0.00</td>\n",
       "      <td>4,264,246.95</td>\n",
       "      <td>0.00</td>\n",
       "      <td>30,357,205.22</td>\n",
       "      <td>0.00</td>\n",
       "    </tr>\n",
       "    <tr>\n",
       "      <th>Domestic Extraction Used - Non-Metallic Minerals - Salt</th>\n",
       "      <td>0.00</td>\n",
       "      <td>0.00</td>\n",
       "      <td>0.00</td>\n",
       "      <td>0.00</td>\n",
       "      <td>0.00</td>\n",
       "      <td>0.00</td>\n",
       "      <td>0.00</td>\n",
       "      <td>1,427,299.45</td>\n",
       "      <td>0.00</td>\n",
       "      <td>0.00</td>\n",
       "      <td>...</td>\n",
       "      <td>70,404,717.10</td>\n",
       "      <td>6,679,520.46</td>\n",
       "      <td>16,622,852.46</td>\n",
       "      <td>11,839,723.91</td>\n",
       "      <td>15,081,347.55</td>\n",
       "      <td>0.00</td>\n",
       "      <td>8,837,986.89</td>\n",
       "      <td>0.00</td>\n",
       "      <td>62,978,097.16</td>\n",
       "      <td>0.00</td>\n",
       "    </tr>\n",
       "    <tr>\n",
       "      <th>Domestic Extraction Used - Non-Metallic Minerals - Slate</th>\n",
       "      <td>0.00</td>\n",
       "      <td>0.00</td>\n",
       "      <td>0.00</td>\n",
       "      <td>0.00</td>\n",
       "      <td>0.00</td>\n",
       "      <td>0.00</td>\n",
       "      <td>0.00</td>\n",
       "      <td>0.00</td>\n",
       "      <td>0.00</td>\n",
       "      <td>0.00</td>\n",
       "      <td>...</td>\n",
       "      <td>0.00</td>\n",
       "      <td>0.00</td>\n",
       "      <td>0.00</td>\n",
       "      <td>0.00</td>\n",
       "      <td>0.00</td>\n",
       "      <td>0.00</td>\n",
       "      <td>0.00</td>\n",
       "      <td>0.00</td>\n",
       "      <td>0.00</td>\n",
       "      <td>0.00</td>\n",
       "    </tr>\n",
       "  </tbody>\n",
       "</table>\n",
       "<p>8 rows × 7987 columns</p>\n",
       "</div>"
      ],
      "text/plain": [
       "region                                                                    AT  \\\n",
       "sector                                             Cultivation of paddy rice   \n",
       "stressor                                                                       \n",
       "Domestic Extraction Used - Non-Metallic Mineral...                      0.00   \n",
       "Domestic Extraction Used - Non-Metallic Mineral...                      0.00   \n",
       "Domestic Extraction Used - Non-Metallic Mineral...                      0.00   \n",
       "Domestic Extraction Used - Non-Metallic Mineral...                      0.00   \n",
       "Domestic Extraction Used - Non-Metallic Mineral...                      0.00   \n",
       "Domestic Extraction Used - Non-Metallic Mineral...                      0.00   \n",
       "Domestic Extraction Used - Non-Metallic Mineral...                      0.00   \n",
       "Domestic Extraction Used - Non-Metallic Mineral...                      0.00   \n",
       "\n",
       "region                                                                   \\\n",
       "sector                                             Cultivation of wheat   \n",
       "stressor                                                                  \n",
       "Domestic Extraction Used - Non-Metallic Mineral...                 0.00   \n",
       "Domestic Extraction Used - Non-Metallic Mineral...                 0.00   \n",
       "Domestic Extraction Used - Non-Metallic Mineral...                 0.00   \n",
       "Domestic Extraction Used - Non-Metallic Mineral...                 0.00   \n",
       "Domestic Extraction Used - Non-Metallic Mineral...                 0.00   \n",
       "Domestic Extraction Used - Non-Metallic Mineral...                 0.00   \n",
       "Domestic Extraction Used - Non-Metallic Mineral...                 0.00   \n",
       "Domestic Extraction Used - Non-Metallic Mineral...                 0.00   \n",
       "\n",
       "region                                                                               \\\n",
       "sector                                             Cultivation of cereal grains nec   \n",
       "stressor                                                                              \n",
       "Domestic Extraction Used - Non-Metallic Mineral...                             0.00   \n",
       "Domestic Extraction Used - Non-Metallic Mineral...                             0.00   \n",
       "Domestic Extraction Used - Non-Metallic Mineral...                             0.00   \n",
       "Domestic Extraction Used - Non-Metallic Mineral...                             0.00   \n",
       "Domestic Extraction Used - Non-Metallic Mineral...                             0.00   \n",
       "Domestic Extraction Used - Non-Metallic Mineral...                             0.00   \n",
       "Domestic Extraction Used - Non-Metallic Mineral...                             0.00   \n",
       "Domestic Extraction Used - Non-Metallic Mineral...                             0.00   \n",
       "\n",
       "region                                                                                     \\\n",
       "sector                                             Cultivation of vegetables, fruit, nuts   \n",
       "stressor                                                                                    \n",
       "Domestic Extraction Used - Non-Metallic Mineral...                                   0.00   \n",
       "Domestic Extraction Used - Non-Metallic Mineral...                                   0.00   \n",
       "Domestic Extraction Used - Non-Metallic Mineral...                                   0.00   \n",
       "Domestic Extraction Used - Non-Metallic Mineral...                                   0.00   \n",
       "Domestic Extraction Used - Non-Metallic Mineral...                                   0.00   \n",
       "Domestic Extraction Used - Non-Metallic Mineral...                                   0.00   \n",
       "Domestic Extraction Used - Non-Metallic Mineral...                                   0.00   \n",
       "Domestic Extraction Used - Non-Metallic Mineral...                                   0.00   \n",
       "\n",
       "region                                                                       \\\n",
       "sector                                             Cultivation of oil seeds   \n",
       "stressor                                                                      \n",
       "Domestic Extraction Used - Non-Metallic Mineral...                     0.00   \n",
       "Domestic Extraction Used - Non-Metallic Mineral...                     0.00   \n",
       "Domestic Extraction Used - Non-Metallic Mineral...                     0.00   \n",
       "Domestic Extraction Used - Non-Metallic Mineral...                     0.00   \n",
       "Domestic Extraction Used - Non-Metallic Mineral...                     0.00   \n",
       "Domestic Extraction Used - Non-Metallic Mineral...                     0.00   \n",
       "Domestic Extraction Used - Non-Metallic Mineral...                     0.00   \n",
       "Domestic Extraction Used - Non-Metallic Mineral...                     0.00   \n",
       "\n",
       "region                                                                                    \\\n",
       "sector                                             Cultivation of sugar cane, sugar beet   \n",
       "stressor                                                                                   \n",
       "Domestic Extraction Used - Non-Metallic Mineral...                                  0.00   \n",
       "Domestic Extraction Used - Non-Metallic Mineral...                                  0.00   \n",
       "Domestic Extraction Used - Non-Metallic Mineral...                                  0.00   \n",
       "Domestic Extraction Used - Non-Metallic Mineral...                                  0.00   \n",
       "Domestic Extraction Used - Non-Metallic Mineral...                                  0.00   \n",
       "Domestic Extraction Used - Non-Metallic Mineral...                                  0.00   \n",
       "Domestic Extraction Used - Non-Metallic Mineral...                                  0.00   \n",
       "Domestic Extraction Used - Non-Metallic Mineral...                                  0.00   \n",
       "\n",
       "region                                                                                \\\n",
       "sector                                             Cultivation of plant-based fibers   \n",
       "stressor                                                                               \n",
       "Domestic Extraction Used - Non-Metallic Mineral...                              0.00   \n",
       "Domestic Extraction Used - Non-Metallic Mineral...                              0.00   \n",
       "Domestic Extraction Used - Non-Metallic Mineral...                              0.00   \n",
       "Domestic Extraction Used - Non-Metallic Mineral...                              0.00   \n",
       "Domestic Extraction Used - Non-Metallic Mineral...                              0.00   \n",
       "Domestic Extraction Used - Non-Metallic Mineral...                              0.00   \n",
       "Domestic Extraction Used - Non-Metallic Mineral...                              0.00   \n",
       "Domestic Extraction Used - Non-Metallic Mineral...                              0.00   \n",
       "\n",
       "region                                                                       \\\n",
       "sector                                             Cultivation of crops nec   \n",
       "stressor                                                                      \n",
       "Domestic Extraction Used - Non-Metallic Mineral...                     0.00   \n",
       "Domestic Extraction Used - Non-Metallic Mineral...                16,355.30   \n",
       "Domestic Extraction Used - Non-Metallic Mineral...                 9,029.84   \n",
       "Domestic Extraction Used - Non-Metallic Mineral...            20,657,884.20   \n",
       "Domestic Extraction Used - Non-Metallic Mineral...               239,459.14   \n",
       "Domestic Extraction Used - Non-Metallic Mineral...            46,728,666.03   \n",
       "Domestic Extraction Used - Non-Metallic Mineral...             1,427,299.45   \n",
       "Domestic Extraction Used - Non-Metallic Mineral...                     0.00   \n",
       "\n",
       "region                                                             \\\n",
       "sector                                             Cattle farming   \n",
       "stressor                                                            \n",
       "Domestic Extraction Used - Non-Metallic Mineral...           0.00   \n",
       "Domestic Extraction Used - Non-Metallic Mineral...           0.00   \n",
       "Domestic Extraction Used - Non-Metallic Mineral...           0.00   \n",
       "Domestic Extraction Used - Non-Metallic Mineral...           0.00   \n",
       "Domestic Extraction Used - Non-Metallic Mineral...           0.00   \n",
       "Domestic Extraction Used - Non-Metallic Mineral...           0.00   \n",
       "Domestic Extraction Used - Non-Metallic Mineral...           0.00   \n",
       "Domestic Extraction Used - Non-Metallic Mineral...           0.00   \n",
       "\n",
       "region                                                           ...  \\\n",
       "sector                                             Pigs farming  ...   \n",
       "stressor                                                         ...   \n",
       "Domestic Extraction Used - Non-Metallic Mineral...         0.00  ...   \n",
       "Domestic Extraction Used - Non-Metallic Mineral...         0.00  ...   \n",
       "Domestic Extraction Used - Non-Metallic Mineral...         0.00  ...   \n",
       "Domestic Extraction Used - Non-Metallic Mineral...         0.00  ...   \n",
       "Domestic Extraction Used - Non-Metallic Mineral...         0.00  ...   \n",
       "Domestic Extraction Used - Non-Metallic Mineral...         0.00  ...   \n",
       "Domestic Extraction Used - Non-Metallic Mineral...         0.00  ...   \n",
       "Domestic Extraction Used - Non-Metallic Mineral...         0.00  ...   \n",
       "\n",
       "region                                                                   WM  \\\n",
       "sector                                             Landfill of waste: Paper   \n",
       "stressor                                                                      \n",
       "Domestic Extraction Used - Non-Metallic Mineral...                     0.00   \n",
       "Domestic Extraction Used - Non-Metallic Mineral...           277,128,758.05   \n",
       "Domestic Extraction Used - Non-Metallic Mineral...                     9.98   \n",
       "Domestic Extraction Used - Non-Metallic Mineral...                 1,020.67   \n",
       "Domestic Extraction Used - Non-Metallic Mineral...           234,449,823.39   \n",
       "Domestic Extraction Used - Non-Metallic Mineral...            33,931,749.67   \n",
       "Domestic Extraction Used - Non-Metallic Mineral...            70,404,717.10   \n",
       "Domestic Extraction Used - Non-Metallic Mineral...                     0.00   \n",
       "\n",
       "region                                                                         \\\n",
       "sector                                             Landfill of waste: Plastic   \n",
       "stressor                                                                        \n",
       "Domestic Extraction Used - Non-Metallic Mineral...                       0.00   \n",
       "Domestic Extraction Used - Non-Metallic Mineral...              26,292,090.74   \n",
       "Domestic Extraction Used - Non-Metallic Mineral...                       0.92   \n",
       "Domestic Extraction Used - Non-Metallic Mineral...                      94.16   \n",
       "Domestic Extraction Used - Non-Metallic Mineral...              22,243,014.38   \n",
       "Domestic Extraction Used - Non-Metallic Mineral...               3,219,199.97   \n",
       "Domestic Extraction Used - Non-Metallic Mineral...               6,679,520.46   \n",
       "Domestic Extraction Used - Non-Metallic Mineral...                       0.00   \n",
       "\n",
       "region                                                                                       \\\n",
       "sector                                             Landfill of waste: Inert/metal/hazardous   \n",
       "stressor                                                                                      \n",
       "Domestic Extraction Used - Non-Metallic Mineral...                                     0.00   \n",
       "Domestic Extraction Used - Non-Metallic Mineral...                            65,431,275.73   \n",
       "Domestic Extraction Used - Non-Metallic Mineral...                                     2.65   \n",
       "Domestic Extraction Used - Non-Metallic Mineral...                                   270.49   \n",
       "Domestic Extraction Used - Non-Metallic Mineral...                            55,354,622.58   \n",
       "Domestic Extraction Used - Non-Metallic Mineral...                             8,011,581.51   \n",
       "Domestic Extraction Used - Non-Metallic Mineral...                            16,622,852.46   \n",
       "Domestic Extraction Used - Non-Metallic Mineral...                                     0.00   \n",
       "\n",
       "region                                                                          \\\n",
       "sector                                             Landfill of waste: Textiles   \n",
       "stressor                                                                         \n",
       "Domestic Extraction Used - Non-Metallic Mineral...                        0.00   \n",
       "Domestic Extraction Used - Non-Metallic Mineral...               46,603,808.94   \n",
       "Domestic Extraction Used - Non-Metallic Mineral...                        1.68   \n",
       "Domestic Extraction Used - Non-Metallic Mineral...                      171.76   \n",
       "Domestic Extraction Used - Non-Metallic Mineral...               39,426,635.40   \n",
       "Domestic Extraction Used - Non-Metallic Mineral...                5,706,188.51   \n",
       "Domestic Extraction Used - Non-Metallic Mineral...               11,839,723.91   \n",
       "Domestic Extraction Used - Non-Metallic Mineral...                        0.00   \n",
       "\n",
       "region                                                                      \\\n",
       "sector                                             Landfill of waste: Wood   \n",
       "stressor                                                                     \n",
       "Domestic Extraction Used - Non-Metallic Mineral...                    0.00   \n",
       "Domestic Extraction Used - Non-Metallic Mineral...           59,363,566.64   \n",
       "Domestic Extraction Used - Non-Metallic Mineral...                    2.15   \n",
       "Domestic Extraction Used - Non-Metallic Mineral...                  220.37   \n",
       "Domestic Extraction Used - Non-Metallic Mineral...           50,221,339.46   \n",
       "Domestic Extraction Used - Non-Metallic Mineral...            7,268,506.33   \n",
       "Domestic Extraction Used - Non-Metallic Mineral...           15,081,347.55   \n",
       "Domestic Extraction Used - Non-Metallic Mineral...                    0.00   \n",
       "\n",
       "region                                                                                                \\\n",
       "sector                                             Activities of membership organisation n.e.c. (91)   \n",
       "stressor                                                                                               \n",
       "Domestic Extraction Used - Non-Metallic Mineral...                                              0.00   \n",
       "Domestic Extraction Used - Non-Metallic Mineral...                                              0.00   \n",
       "Domestic Extraction Used - Non-Metallic Mineral...                                              0.00   \n",
       "Domestic Extraction Used - Non-Metallic Mineral...                                              0.00   \n",
       "Domestic Extraction Used - Non-Metallic Mineral...                                              0.00   \n",
       "Domestic Extraction Used - Non-Metallic Mineral...                                              0.00   \n",
       "Domestic Extraction Used - Non-Metallic Mineral...                                              0.00   \n",
       "Domestic Extraction Used - Non-Metallic Mineral...                                              0.00   \n",
       "\n",
       "region                                                                                                  \\\n",
       "sector                                             Recreational, cultural and sporting activities (92)   \n",
       "stressor                                                                                                 \n",
       "Domestic Extraction Used - Non-Metallic Mineral...                                               0.00    \n",
       "Domestic Extraction Used - Non-Metallic Mineral...                                      34,788,298.75    \n",
       "Domestic Extraction Used - Non-Metallic Mineral...                                              10.33    \n",
       "Domestic Extraction Used - Non-Metallic Mineral...                                           1,056.04    \n",
       "Domestic Extraction Used - Non-Metallic Mineral...                                      29,430,933.44    \n",
       "Domestic Extraction Used - Non-Metallic Mineral...                                       4,264,246.95    \n",
       "Domestic Extraction Used - Non-Metallic Mineral...                                       8,837,986.89    \n",
       "Domestic Extraction Used - Non-Metallic Mineral...                                               0.00    \n",
       "\n",
       "region                                                                            \\\n",
       "sector                                             Other service activities (93)   \n",
       "stressor                                                                           \n",
       "Domestic Extraction Used - Non-Metallic Mineral...                          0.00   \n",
       "Domestic Extraction Used - Non-Metallic Mineral...                          0.00   \n",
       "Domestic Extraction Used - Non-Metallic Mineral...                          0.00   \n",
       "Domestic Extraction Used - Non-Metallic Mineral...                          0.00   \n",
       "Domestic Extraction Used - Non-Metallic Mineral...                          0.00   \n",
       "Domestic Extraction Used - Non-Metallic Mineral...                          0.00   \n",
       "Domestic Extraction Used - Non-Metallic Mineral...                          0.00   \n",
       "Domestic Extraction Used - Non-Metallic Mineral...                          0.00   \n",
       "\n",
       "region                                                                                            \\\n",
       "sector                                             Private households with employed persons (95)   \n",
       "stressor                                                                                           \n",
       "Domestic Extraction Used - Non-Metallic Mineral...                                          0.00   \n",
       "Domestic Extraction Used - Non-Metallic Mineral...                                247,895,916.20   \n",
       "Domestic Extraction Used - Non-Metallic Mineral...                                         17.97   \n",
       "Domestic Extraction Used - Non-Metallic Mineral...                                      1,837.45   \n",
       "Domestic Extraction Used - Non-Metallic Mineral...                                209,719,047.75   \n",
       "Domestic Extraction Used - Non-Metallic Mineral...                                 30,357,205.22   \n",
       "Domestic Extraction Used - Non-Metallic Mineral...                                 62,978,097.16   \n",
       "Domestic Extraction Used - Non-Metallic Mineral...                                          0.00   \n",
       "\n",
       "region                                                                                         \n",
       "sector                                             Extra-territorial organizations and bodies  \n",
       "stressor                                                                                       \n",
       "Domestic Extraction Used - Non-Metallic Mineral...                                       0.00  \n",
       "Domestic Extraction Used - Non-Metallic Mineral...                                       0.00  \n",
       "Domestic Extraction Used - Non-Metallic Mineral...                                       0.00  \n",
       "Domestic Extraction Used - Non-Metallic Mineral...                                       0.00  \n",
       "Domestic Extraction Used - Non-Metallic Mineral...                                       0.00  \n",
       "Domestic Extraction Used - Non-Metallic Mineral...                                       0.00  \n",
       "Domestic Extraction Used - Non-Metallic Mineral...                                       0.00  \n",
       "Domestic Extraction Used - Non-Metallic Mineral...                                       0.00  \n",
       "\n",
       "[8 rows x 7987 columns]"
      ]
     },
     "execution_count": 19,
     "metadata": {},
     "output_type": "execute_result"
    }
   ],
   "source": [
    "# compute domestic minerals extraction for each country (per sector)\n",
    "diagfX_minerals = f_minerals * x  # f * x = np.diag(f) @ x\n",
    "\n",
    "# Display intermediary result\n",
    "print(\"units are in kg (instead of kt)\\n\")\n",
    "1e6*diagfX_minerals"
   ]
  },
  {
   "cell_type": "code",
   "execution_count": 21,
   "metadata": {},
   "outputs": [
    {
     "data": {
      "text/plain": [
       "stressor\n",
       "Domestic Extraction Used - Non-Metallic Minerals - Building stones                            0.00\n",
       "Domestic Extraction Used - Non-Metallic Minerals - Chemical and fertilizer minerals         774.77\n",
       "Domestic Extraction Used - Non-Metallic Minerals - Clays and kaolin                       6,151.13\n",
       "Domestic Extraction Used - Non-Metallic Minerals - Gravel and sand                       59,960.55\n",
       "Domestic Extraction Used - Non-Metallic Minerals - Limestone, gypsum, chalk, dolomite     9,259.08\n",
       "Domestic Extraction Used - Non-Metallic Minerals - Other minerals                       122,590.38\n",
       "Domestic Extraction Used - Non-Metallic Minerals - Salt                                   4,606.47\n",
       "Domestic Extraction Used - Non-Metallic Minerals - Slate                                    772.30\n",
       "Name: GB, dtype: float64"
      ]
     },
     "execution_count": 21,
     "metadata": {},
     "output_type": "execute_result"
    }
   ],
   "source": [
    "# Display the results per stressor for the country selected (sectors are aggregated) \n",
    "diagfX_minerals.groupby('region', axis=1).sum()[country]"
   ]
  },
  {
   "cell_type": "code",
   "execution_count": 33,
   "metadata": {},
   "outputs": [
    {
     "data": {
      "text/plain": [
       "204114.66715733145"
      ]
     },
     "execution_count": 33,
     "metadata": {},
     "output_type": "execute_result"
    }
   ],
   "source": [
    "# Aggregate the results\n",
    "e_pba_agg_minerals_UK = diagfX_minerals.groupby('region', axis=1).sum()[country].sum()\n",
    "e_pba_agg_minerals_UK"
   ]
  },
  {
   "attachments": {},
   "cell_type": "markdown",
   "metadata": {},
   "source": [
    "## Question 2: Footprint analysis (10 points)"
   ]
  },
  {
   "attachments": {},
   "cell_type": "markdown",
   "metadata": {},
   "source": [
    "### Q2.1 What was the UK's non-metallic mineral footprint in 2016? (10 points)"
   ]
  },
  {
   "cell_type": "code",
   "execution_count": 28,
   "metadata": {},
   "outputs": [
    {
     "data": {
      "text/html": [
       "<div>\n",
       "<style scoped>\n",
       "    .dataframe tbody tr th:only-of-type {\n",
       "        vertical-align: middle;\n",
       "    }\n",
       "\n",
       "    .dataframe tbody tr th {\n",
       "        vertical-align: top;\n",
       "    }\n",
       "\n",
       "    .dataframe thead tr th {\n",
       "        text-align: left;\n",
       "    }\n",
       "\n",
       "    .dataframe thead tr:last-of-type th {\n",
       "        text-align: right;\n",
       "    }\n",
       "</style>\n",
       "<table border=\"1\" class=\"dataframe\">\n",
       "  <thead>\n",
       "    <tr>\n",
       "      <th>region</th>\n",
       "      <th colspan=\"7\" halign=\"left\">AT</th>\n",
       "      <th colspan=\"3\" halign=\"left\">BE</th>\n",
       "      <th>...</th>\n",
       "      <th colspan=\"3\" halign=\"left\">WF</th>\n",
       "      <th colspan=\"7\" halign=\"left\">WM</th>\n",
       "    </tr>\n",
       "    <tr>\n",
       "      <th>category</th>\n",
       "      <th>Final consumption expenditure by households</th>\n",
       "      <th>Final consumption expenditure by non-profit organisations serving households (NPISH)</th>\n",
       "      <th>Final consumption expenditure by government</th>\n",
       "      <th>Gross fixed capital formation</th>\n",
       "      <th>Changes in inventories</th>\n",
       "      <th>Changes in valuables</th>\n",
       "      <th>Exports: Total (fob)</th>\n",
       "      <th>Final consumption expenditure by households</th>\n",
       "      <th>Final consumption expenditure by non-profit organisations serving households (NPISH)</th>\n",
       "      <th>Final consumption expenditure by government</th>\n",
       "      <th>...</th>\n",
       "      <th>Changes in inventories</th>\n",
       "      <th>Changes in valuables</th>\n",
       "      <th>Exports: Total (fob)</th>\n",
       "      <th>Final consumption expenditure by households</th>\n",
       "      <th>Final consumption expenditure by non-profit organisations serving households (NPISH)</th>\n",
       "      <th>Final consumption expenditure by government</th>\n",
       "      <th>Gross fixed capital formation</th>\n",
       "      <th>Changes in inventories</th>\n",
       "      <th>Changes in valuables</th>\n",
       "      <th>Exports: Total (fob)</th>\n",
       "    </tr>\n",
       "    <tr>\n",
       "      <th>stressor</th>\n",
       "      <th></th>\n",
       "      <th></th>\n",
       "      <th></th>\n",
       "      <th></th>\n",
       "      <th></th>\n",
       "      <th></th>\n",
       "      <th></th>\n",
       "      <th></th>\n",
       "      <th></th>\n",
       "      <th></th>\n",
       "      <th></th>\n",
       "      <th></th>\n",
       "      <th></th>\n",
       "      <th></th>\n",
       "      <th></th>\n",
       "      <th></th>\n",
       "      <th></th>\n",
       "      <th></th>\n",
       "      <th></th>\n",
       "      <th></th>\n",
       "      <th></th>\n",
       "    </tr>\n",
       "  </thead>\n",
       "  <tbody>\n",
       "    <tr>\n",
       "      <th>Domestic Extraction Used - Non-Metallic Minerals - Building stones</th>\n",
       "      <td>0.44</td>\n",
       "      <td>0.01</td>\n",
       "      <td>0.08</td>\n",
       "      <td>0.29</td>\n",
       "      <td>0.01</td>\n",
       "      <td>0.00</td>\n",
       "      <td>0.00</td>\n",
       "      <td>1.21</td>\n",
       "      <td>0.03</td>\n",
       "      <td>0.41</td>\n",
       "      <td>...</td>\n",
       "      <td>0.02</td>\n",
       "      <td>0.03</td>\n",
       "      <td>0.00</td>\n",
       "      <td>4.10</td>\n",
       "      <td>0.38</td>\n",
       "      <td>0.98</td>\n",
       "      <td>6.39</td>\n",
       "      <td>0.00</td>\n",
       "      <td>0.00</td>\n",
       "      <td>0.00</td>\n",
       "    </tr>\n",
       "    <tr>\n",
       "      <th>Domestic Extraction Used - Non-Metallic Minerals - Chemical and fertilizer minerals</th>\n",
       "      <td>349.10</td>\n",
       "      <td>6.07</td>\n",
       "      <td>75.03</td>\n",
       "      <td>235.73</td>\n",
       "      <td>14.93</td>\n",
       "      <td>0.00</td>\n",
       "      <td>0.00</td>\n",
       "      <td>2,471.80</td>\n",
       "      <td>55.01</td>\n",
       "      <td>698.98</td>\n",
       "      <td>...</td>\n",
       "      <td>58.38</td>\n",
       "      <td>73.96</td>\n",
       "      <td>0.00</td>\n",
       "      <td>12,449.70</td>\n",
       "      <td>1,263.90</td>\n",
       "      <td>3,230.09</td>\n",
       "      <td>8,199.68</td>\n",
       "      <td>0.00</td>\n",
       "      <td>0.00</td>\n",
       "      <td>0.00</td>\n",
       "    </tr>\n",
       "    <tr>\n",
       "      <th>Domestic Extraction Used - Non-Metallic Minerals - Clays and kaolin</th>\n",
       "      <td>125.12</td>\n",
       "      <td>2.21</td>\n",
       "      <td>18.87</td>\n",
       "      <td>126.59</td>\n",
       "      <td>6.04</td>\n",
       "      <td>0.00</td>\n",
       "      <td>0.00</td>\n",
       "      <td>255.63</td>\n",
       "      <td>6.71</td>\n",
       "      <td>71.31</td>\n",
       "      <td>...</td>\n",
       "      <td>5.65</td>\n",
       "      <td>5.99</td>\n",
       "      <td>0.00</td>\n",
       "      <td>1,267.15</td>\n",
       "      <td>188.68</td>\n",
       "      <td>552.44</td>\n",
       "      <td>1,970.64</td>\n",
       "      <td>0.00</td>\n",
       "      <td>0.00</td>\n",
       "      <td>0.00</td>\n",
       "    </tr>\n",
       "    <tr>\n",
       "      <th>Domestic Extraction Used - Non-Metallic Minerals - Gravel and sand</th>\n",
       "      <td>7,856.92</td>\n",
       "      <td>266.42</td>\n",
       "      <td>2,452.76</td>\n",
       "      <td>14,921.04</td>\n",
       "      <td>641.11</td>\n",
       "      <td>0.00</td>\n",
       "      <td>0.00</td>\n",
       "      <td>7,623.60</td>\n",
       "      <td>223.62</td>\n",
       "      <td>2,196.47</td>\n",
       "      <td>...</td>\n",
       "      <td>76.15</td>\n",
       "      <td>99.21</td>\n",
       "      <td>0.00</td>\n",
       "      <td>39,243.91</td>\n",
       "      <td>6,330.66</td>\n",
       "      <td>15,166.61</td>\n",
       "      <td>105,306.06</td>\n",
       "      <td>0.00</td>\n",
       "      <td>0.00</td>\n",
       "      <td>0.00</td>\n",
       "    </tr>\n",
       "    <tr>\n",
       "      <th>Domestic Extraction Used - Non-Metallic Minerals - Limestone, gypsum, chalk, dolomite</th>\n",
       "      <td>1,575.08</td>\n",
       "      <td>30.62</td>\n",
       "      <td>251.95</td>\n",
       "      <td>1,169.18</td>\n",
       "      <td>68.75</td>\n",
       "      <td>0.00</td>\n",
       "      <td>0.00</td>\n",
       "      <td>4,859.17</td>\n",
       "      <td>121.55</td>\n",
       "      <td>1,684.94</td>\n",
       "      <td>...</td>\n",
       "      <td>120.17</td>\n",
       "      <td>126.03</td>\n",
       "      <td>0.00</td>\n",
       "      <td>32,764.69</td>\n",
       "      <td>3,675.64</td>\n",
       "      <td>9,473.75</td>\n",
       "      <td>55,288.44</td>\n",
       "      <td>0.00</td>\n",
       "      <td>0.00</td>\n",
       "      <td>0.00</td>\n",
       "    </tr>\n",
       "    <tr>\n",
       "      <th>Domestic Extraction Used - Non-Metallic Minerals - Other minerals</th>\n",
       "      <td>19,465.60</td>\n",
       "      <td>567.55</td>\n",
       "      <td>4,717.85</td>\n",
       "      <td>36,356.71</td>\n",
       "      <td>1,278.48</td>\n",
       "      <td>0.00</td>\n",
       "      <td>0.00</td>\n",
       "      <td>33,529.54</td>\n",
       "      <td>910.04</td>\n",
       "      <td>10,687.54</td>\n",
       "      <td>...</td>\n",
       "      <td>3,519.02</td>\n",
       "      <td>2,985.32</td>\n",
       "      <td>0.00</td>\n",
       "      <td>304,804.44</td>\n",
       "      <td>81,325.52</td>\n",
       "      <td>250,058.35</td>\n",
       "      <td>689,128.53</td>\n",
       "      <td>0.00</td>\n",
       "      <td>0.00</td>\n",
       "      <td>0.00</td>\n",
       "    </tr>\n",
       "    <tr>\n",
       "      <th>Domestic Extraction Used - Non-Metallic Minerals - Salt</th>\n",
       "      <td>868.47</td>\n",
       "      <td>17.09</td>\n",
       "      <td>157.11</td>\n",
       "      <td>629.22</td>\n",
       "      <td>42.29</td>\n",
       "      <td>0.00</td>\n",
       "      <td>0.00</td>\n",
       "      <td>1,321.50</td>\n",
       "      <td>25.58</td>\n",
       "      <td>340.65</td>\n",
       "      <td>...</td>\n",
       "      <td>12.71</td>\n",
       "      <td>16.57</td>\n",
       "      <td>0.00</td>\n",
       "      <td>6,004.76</td>\n",
       "      <td>463.39</td>\n",
       "      <td>1,173.92</td>\n",
       "      <td>4,018.65</td>\n",
       "      <td>0.00</td>\n",
       "      <td>0.00</td>\n",
       "      <td>0.00</td>\n",
       "    </tr>\n",
       "    <tr>\n",
       "      <th>Domestic Extraction Used - Non-Metallic Minerals - Slate</th>\n",
       "      <td>2.03</td>\n",
       "      <td>0.01</td>\n",
       "      <td>0.13</td>\n",
       "      <td>0.44</td>\n",
       "      <td>0.03</td>\n",
       "      <td>0.00</td>\n",
       "      <td>0.00</td>\n",
       "      <td>5.50</td>\n",
       "      <td>0.07</td>\n",
       "      <td>0.61</td>\n",
       "      <td>...</td>\n",
       "      <td>0.02</td>\n",
       "      <td>0.03</td>\n",
       "      <td>0.00</td>\n",
       "      <td>23.48</td>\n",
       "      <td>0.94</td>\n",
       "      <td>2.64</td>\n",
       "      <td>7.74</td>\n",
       "      <td>0.00</td>\n",
       "      <td>0.00</td>\n",
       "      <td>0.00</td>\n",
       "    </tr>\n",
       "  </tbody>\n",
       "</table>\n",
       "<p>8 rows × 343 columns</p>\n",
       "</div>"
      ],
      "text/plain": [
       "region                                                                                      AT  \\\n",
       "category                                           Final consumption expenditure by households   \n",
       "stressor                                                                                         \n",
       "Domestic Extraction Used - Non-Metallic Mineral...                                        0.44   \n",
       "Domestic Extraction Used - Non-Metallic Mineral...                                      349.10   \n",
       "Domestic Extraction Used - Non-Metallic Mineral...                                      125.12   \n",
       "Domestic Extraction Used - Non-Metallic Mineral...                                    7,856.92   \n",
       "Domestic Extraction Used - Non-Metallic Mineral...                                    1,575.08   \n",
       "Domestic Extraction Used - Non-Metallic Mineral...                                   19,465.60   \n",
       "Domestic Extraction Used - Non-Metallic Mineral...                                      868.47   \n",
       "Domestic Extraction Used - Non-Metallic Mineral...                                        2.03   \n",
       "\n",
       "region                                                                                                                                   \\\n",
       "category                                           Final consumption expenditure by non-profit organisations serving households (NPISH)   \n",
       "stressor                                                                                                                                  \n",
       "Domestic Extraction Used - Non-Metallic Mineral...                                               0.01                                     \n",
       "Domestic Extraction Used - Non-Metallic Mineral...                                               6.07                                     \n",
       "Domestic Extraction Used - Non-Metallic Mineral...                                               2.21                                     \n",
       "Domestic Extraction Used - Non-Metallic Mineral...                                             266.42                                     \n",
       "Domestic Extraction Used - Non-Metallic Mineral...                                              30.62                                     \n",
       "Domestic Extraction Used - Non-Metallic Mineral...                                             567.55                                     \n",
       "Domestic Extraction Used - Non-Metallic Mineral...                                              17.09                                     \n",
       "Domestic Extraction Used - Non-Metallic Mineral...                                               0.01                                     \n",
       "\n",
       "region                                                                                          \\\n",
       "category                                           Final consumption expenditure by government   \n",
       "stressor                                                                                         \n",
       "Domestic Extraction Used - Non-Metallic Mineral...                                        0.08   \n",
       "Domestic Extraction Used - Non-Metallic Mineral...                                       75.03   \n",
       "Domestic Extraction Used - Non-Metallic Mineral...                                       18.87   \n",
       "Domestic Extraction Used - Non-Metallic Mineral...                                    2,452.76   \n",
       "Domestic Extraction Used - Non-Metallic Mineral...                                      251.95   \n",
       "Domestic Extraction Used - Non-Metallic Mineral...                                    4,717.85   \n",
       "Domestic Extraction Used - Non-Metallic Mineral...                                      157.11   \n",
       "Domestic Extraction Used - Non-Metallic Mineral...                                        0.13   \n",
       "\n",
       "region                                                                            \\\n",
       "category                                           Gross fixed capital formation   \n",
       "stressor                                                                           \n",
       "Domestic Extraction Used - Non-Metallic Mineral...                          0.29   \n",
       "Domestic Extraction Used - Non-Metallic Mineral...                        235.73   \n",
       "Domestic Extraction Used - Non-Metallic Mineral...                        126.59   \n",
       "Domestic Extraction Used - Non-Metallic Mineral...                     14,921.04   \n",
       "Domestic Extraction Used - Non-Metallic Mineral...                      1,169.18   \n",
       "Domestic Extraction Used - Non-Metallic Mineral...                     36,356.71   \n",
       "Domestic Extraction Used - Non-Metallic Mineral...                        629.22   \n",
       "Domestic Extraction Used - Non-Metallic Mineral...                          0.44   \n",
       "\n",
       "region                                                                     \\\n",
       "category                                           Changes in inventories   \n",
       "stressor                                                                    \n",
       "Domestic Extraction Used - Non-Metallic Mineral...                   0.01   \n",
       "Domestic Extraction Used - Non-Metallic Mineral...                  14.93   \n",
       "Domestic Extraction Used - Non-Metallic Mineral...                   6.04   \n",
       "Domestic Extraction Used - Non-Metallic Mineral...                 641.11   \n",
       "Domestic Extraction Used - Non-Metallic Mineral...                  68.75   \n",
       "Domestic Extraction Used - Non-Metallic Mineral...               1,278.48   \n",
       "Domestic Extraction Used - Non-Metallic Mineral...                  42.29   \n",
       "Domestic Extraction Used - Non-Metallic Mineral...                   0.03   \n",
       "\n",
       "region                                                                   \\\n",
       "category                                           Changes in valuables   \n",
       "stressor                                                                  \n",
       "Domestic Extraction Used - Non-Metallic Mineral...                 0.00   \n",
       "Domestic Extraction Used - Non-Metallic Mineral...                 0.00   \n",
       "Domestic Extraction Used - Non-Metallic Mineral...                 0.00   \n",
       "Domestic Extraction Used - Non-Metallic Mineral...                 0.00   \n",
       "Domestic Extraction Used - Non-Metallic Mineral...                 0.00   \n",
       "Domestic Extraction Used - Non-Metallic Mineral...                 0.00   \n",
       "Domestic Extraction Used - Non-Metallic Mineral...                 0.00   \n",
       "Domestic Extraction Used - Non-Metallic Mineral...                 0.00   \n",
       "\n",
       "region                                                                   \\\n",
       "category                                           Exports: Total (fob)   \n",
       "stressor                                                                  \n",
       "Domestic Extraction Used - Non-Metallic Mineral...                 0.00   \n",
       "Domestic Extraction Used - Non-Metallic Mineral...                 0.00   \n",
       "Domestic Extraction Used - Non-Metallic Mineral...                 0.00   \n",
       "Domestic Extraction Used - Non-Metallic Mineral...                 0.00   \n",
       "Domestic Extraction Used - Non-Metallic Mineral...                 0.00   \n",
       "Domestic Extraction Used - Non-Metallic Mineral...                 0.00   \n",
       "Domestic Extraction Used - Non-Metallic Mineral...                 0.00   \n",
       "Domestic Extraction Used - Non-Metallic Mineral...                 0.00   \n",
       "\n",
       "region                                                                                      BE  \\\n",
       "category                                           Final consumption expenditure by households   \n",
       "stressor                                                                                         \n",
       "Domestic Extraction Used - Non-Metallic Mineral...                                        1.21   \n",
       "Domestic Extraction Used - Non-Metallic Mineral...                                    2,471.80   \n",
       "Domestic Extraction Used - Non-Metallic Mineral...                                      255.63   \n",
       "Domestic Extraction Used - Non-Metallic Mineral...                                    7,623.60   \n",
       "Domestic Extraction Used - Non-Metallic Mineral...                                    4,859.17   \n",
       "Domestic Extraction Used - Non-Metallic Mineral...                                   33,529.54   \n",
       "Domestic Extraction Used - Non-Metallic Mineral...                                    1,321.50   \n",
       "Domestic Extraction Used - Non-Metallic Mineral...                                        5.50   \n",
       "\n",
       "region                                                                                                                                   \\\n",
       "category                                           Final consumption expenditure by non-profit organisations serving households (NPISH)   \n",
       "stressor                                                                                                                                  \n",
       "Domestic Extraction Used - Non-Metallic Mineral...                                               0.03                                     \n",
       "Domestic Extraction Used - Non-Metallic Mineral...                                              55.01                                     \n",
       "Domestic Extraction Used - Non-Metallic Mineral...                                               6.71                                     \n",
       "Domestic Extraction Used - Non-Metallic Mineral...                                             223.62                                     \n",
       "Domestic Extraction Used - Non-Metallic Mineral...                                             121.55                                     \n",
       "Domestic Extraction Used - Non-Metallic Mineral...                                             910.04                                     \n",
       "Domestic Extraction Used - Non-Metallic Mineral...                                              25.58                                     \n",
       "Domestic Extraction Used - Non-Metallic Mineral...                                               0.07                                     \n",
       "\n",
       "region                                                                                          \\\n",
       "category                                           Final consumption expenditure by government   \n",
       "stressor                                                                                         \n",
       "Domestic Extraction Used - Non-Metallic Mineral...                                        0.41   \n",
       "Domestic Extraction Used - Non-Metallic Mineral...                                      698.98   \n",
       "Domestic Extraction Used - Non-Metallic Mineral...                                       71.31   \n",
       "Domestic Extraction Used - Non-Metallic Mineral...                                    2,196.47   \n",
       "Domestic Extraction Used - Non-Metallic Mineral...                                    1,684.94   \n",
       "Domestic Extraction Used - Non-Metallic Mineral...                                   10,687.54   \n",
       "Domestic Extraction Used - Non-Metallic Mineral...                                      340.65   \n",
       "Domestic Extraction Used - Non-Metallic Mineral...                                        0.61   \n",
       "\n",
       "region                                              ...  \\\n",
       "category                                            ...   \n",
       "stressor                                            ...   \n",
       "Domestic Extraction Used - Non-Metallic Mineral...  ...   \n",
       "Domestic Extraction Used - Non-Metallic Mineral...  ...   \n",
       "Domestic Extraction Used - Non-Metallic Mineral...  ...   \n",
       "Domestic Extraction Used - Non-Metallic Mineral...  ...   \n",
       "Domestic Extraction Used - Non-Metallic Mineral...  ...   \n",
       "Domestic Extraction Used - Non-Metallic Mineral...  ...   \n",
       "Domestic Extraction Used - Non-Metallic Mineral...  ...   \n",
       "Domestic Extraction Used - Non-Metallic Mineral...  ...   \n",
       "\n",
       "region                                                                 WF  \\\n",
       "category                                           Changes in inventories   \n",
       "stressor                                                                    \n",
       "Domestic Extraction Used - Non-Metallic Mineral...                   0.02   \n",
       "Domestic Extraction Used - Non-Metallic Mineral...                  58.38   \n",
       "Domestic Extraction Used - Non-Metallic Mineral...                   5.65   \n",
       "Domestic Extraction Used - Non-Metallic Mineral...                  76.15   \n",
       "Domestic Extraction Used - Non-Metallic Mineral...                 120.17   \n",
       "Domestic Extraction Used - Non-Metallic Mineral...               3,519.02   \n",
       "Domestic Extraction Used - Non-Metallic Mineral...                  12.71   \n",
       "Domestic Extraction Used - Non-Metallic Mineral...                   0.02   \n",
       "\n",
       "region                                                                   \\\n",
       "category                                           Changes in valuables   \n",
       "stressor                                                                  \n",
       "Domestic Extraction Used - Non-Metallic Mineral...                 0.03   \n",
       "Domestic Extraction Used - Non-Metallic Mineral...                73.96   \n",
       "Domestic Extraction Used - Non-Metallic Mineral...                 5.99   \n",
       "Domestic Extraction Used - Non-Metallic Mineral...                99.21   \n",
       "Domestic Extraction Used - Non-Metallic Mineral...               126.03   \n",
       "Domestic Extraction Used - Non-Metallic Mineral...             2,985.32   \n",
       "Domestic Extraction Used - Non-Metallic Mineral...                16.57   \n",
       "Domestic Extraction Used - Non-Metallic Mineral...                 0.03   \n",
       "\n",
       "region                                                                   \\\n",
       "category                                           Exports: Total (fob)   \n",
       "stressor                                                                  \n",
       "Domestic Extraction Used - Non-Metallic Mineral...                 0.00   \n",
       "Domestic Extraction Used - Non-Metallic Mineral...                 0.00   \n",
       "Domestic Extraction Used - Non-Metallic Mineral...                 0.00   \n",
       "Domestic Extraction Used - Non-Metallic Mineral...                 0.00   \n",
       "Domestic Extraction Used - Non-Metallic Mineral...                 0.00   \n",
       "Domestic Extraction Used - Non-Metallic Mineral...                 0.00   \n",
       "Domestic Extraction Used - Non-Metallic Mineral...                 0.00   \n",
       "Domestic Extraction Used - Non-Metallic Mineral...                 0.00   \n",
       "\n",
       "region                                                                                      WM  \\\n",
       "category                                           Final consumption expenditure by households   \n",
       "stressor                                                                                         \n",
       "Domestic Extraction Used - Non-Metallic Mineral...                                        4.10   \n",
       "Domestic Extraction Used - Non-Metallic Mineral...                                   12,449.70   \n",
       "Domestic Extraction Used - Non-Metallic Mineral...                                    1,267.15   \n",
       "Domestic Extraction Used - Non-Metallic Mineral...                                   39,243.91   \n",
       "Domestic Extraction Used - Non-Metallic Mineral...                                   32,764.69   \n",
       "Domestic Extraction Used - Non-Metallic Mineral...                                  304,804.44   \n",
       "Domestic Extraction Used - Non-Metallic Mineral...                                    6,004.76   \n",
       "Domestic Extraction Used - Non-Metallic Mineral...                                       23.48   \n",
       "\n",
       "region                                                                                                                                   \\\n",
       "category                                           Final consumption expenditure by non-profit organisations serving households (NPISH)   \n",
       "stressor                                                                                                                                  \n",
       "Domestic Extraction Used - Non-Metallic Mineral...                                               0.38                                     \n",
       "Domestic Extraction Used - Non-Metallic Mineral...                                           1,263.90                                     \n",
       "Domestic Extraction Used - Non-Metallic Mineral...                                             188.68                                     \n",
       "Domestic Extraction Used - Non-Metallic Mineral...                                           6,330.66                                     \n",
       "Domestic Extraction Used - Non-Metallic Mineral...                                           3,675.64                                     \n",
       "Domestic Extraction Used - Non-Metallic Mineral...                                          81,325.52                                     \n",
       "Domestic Extraction Used - Non-Metallic Mineral...                                             463.39                                     \n",
       "Domestic Extraction Used - Non-Metallic Mineral...                                               0.94                                     \n",
       "\n",
       "region                                                                                          \\\n",
       "category                                           Final consumption expenditure by government   \n",
       "stressor                                                                                         \n",
       "Domestic Extraction Used - Non-Metallic Mineral...                                        0.98   \n",
       "Domestic Extraction Used - Non-Metallic Mineral...                                    3,230.09   \n",
       "Domestic Extraction Used - Non-Metallic Mineral...                                      552.44   \n",
       "Domestic Extraction Used - Non-Metallic Mineral...                                   15,166.61   \n",
       "Domestic Extraction Used - Non-Metallic Mineral...                                    9,473.75   \n",
       "Domestic Extraction Used - Non-Metallic Mineral...                                  250,058.35   \n",
       "Domestic Extraction Used - Non-Metallic Mineral...                                    1,173.92   \n",
       "Domestic Extraction Used - Non-Metallic Mineral...                                        2.64   \n",
       "\n",
       "region                                                                            \\\n",
       "category                                           Gross fixed capital formation   \n",
       "stressor                                                                           \n",
       "Domestic Extraction Used - Non-Metallic Mineral...                          6.39   \n",
       "Domestic Extraction Used - Non-Metallic Mineral...                      8,199.68   \n",
       "Domestic Extraction Used - Non-Metallic Mineral...                      1,970.64   \n",
       "Domestic Extraction Used - Non-Metallic Mineral...                    105,306.06   \n",
       "Domestic Extraction Used - Non-Metallic Mineral...                     55,288.44   \n",
       "Domestic Extraction Used - Non-Metallic Mineral...                    689,128.53   \n",
       "Domestic Extraction Used - Non-Metallic Mineral...                      4,018.65   \n",
       "Domestic Extraction Used - Non-Metallic Mineral...                          7.74   \n",
       "\n",
       "region                                                                     \\\n",
       "category                                           Changes in inventories   \n",
       "stressor                                                                    \n",
       "Domestic Extraction Used - Non-Metallic Mineral...                   0.00   \n",
       "Domestic Extraction Used - Non-Metallic Mineral...                   0.00   \n",
       "Domestic Extraction Used - Non-Metallic Mineral...                   0.00   \n",
       "Domestic Extraction Used - Non-Metallic Mineral...                   0.00   \n",
       "Domestic Extraction Used - Non-Metallic Mineral...                   0.00   \n",
       "Domestic Extraction Used - Non-Metallic Mineral...                   0.00   \n",
       "Domestic Extraction Used - Non-Metallic Mineral...                   0.00   \n",
       "Domestic Extraction Used - Non-Metallic Mineral...                   0.00   \n",
       "\n",
       "region                                                                   \\\n",
       "category                                           Changes in valuables   \n",
       "stressor                                                                  \n",
       "Domestic Extraction Used - Non-Metallic Mineral...                 0.00   \n",
       "Domestic Extraction Used - Non-Metallic Mineral...                 0.00   \n",
       "Domestic Extraction Used - Non-Metallic Mineral...                 0.00   \n",
       "Domestic Extraction Used - Non-Metallic Mineral...                 0.00   \n",
       "Domestic Extraction Used - Non-Metallic Mineral...                 0.00   \n",
       "Domestic Extraction Used - Non-Metallic Mineral...                 0.00   \n",
       "Domestic Extraction Used - Non-Metallic Mineral...                 0.00   \n",
       "Domestic Extraction Used - Non-Metallic Mineral...                 0.00   \n",
       "\n",
       "region                                                                   \n",
       "category                                           Exports: Total (fob)  \n",
       "stressor                                                                 \n",
       "Domestic Extraction Used - Non-Metallic Mineral...                 0.00  \n",
       "Domestic Extraction Used - Non-Metallic Mineral...                 0.00  \n",
       "Domestic Extraction Used - Non-Metallic Mineral...                 0.00  \n",
       "Domestic Extraction Used - Non-Metallic Mineral...                 0.00  \n",
       "Domestic Extraction Used - Non-Metallic Mineral...                 0.00  \n",
       "Domestic Extraction Used - Non-Metallic Mineral...                 0.00  \n",
       "Domestic Extraction Used - Non-Metallic Mineral...                 0.00  \n",
       "Domestic Extraction Used - Non-Metallic Mineral...                 0.00  \n",
       "\n",
       "[8 rows x 343 columns]"
      ]
     },
     "execution_count": 28,
     "metadata": {},
     "output_type": "execute_result"
    }
   ],
   "source": [
    "# Compute Mineral footprint\n",
    "fLY_minerals = f_minerals @ LY\n",
    "\n",
    "e_fp_minerals = fLY_minerals + F_y_minerals  # but F_y_minerals = 0\n",
    "\n",
    "# Display the results\n",
    "e_fp_minerals"
   ]
  },
  {
   "cell_type": "code",
   "execution_count": 30,
   "metadata": {},
   "outputs": [
    {
     "data": {
      "text/plain": [
       "stressor\n",
       "Domestic Extraction Used - Non-Metallic Minerals - Building stones                            8.24\n",
       "Domestic Extraction Used - Non-Metallic Minerals - Chemical and fertilizer minerals       4,438.10\n",
       "Domestic Extraction Used - Non-Metallic Minerals - Clays and kaolin                       4,061.75\n",
       "Domestic Extraction Used - Non-Metallic Minerals - Gravel and sand                       60,528.62\n",
       "Domestic Extraction Used - Non-Metallic Minerals - Limestone, gypsum, chalk, dolomite    31,956.17\n",
       "Domestic Extraction Used - Non-Metallic Minerals - Other minerals                       184,237.13\n",
       "Domestic Extraction Used - Non-Metallic Minerals - Salt                                   5,838.54\n",
       "Domestic Extraction Used - Non-Metallic Minerals - Slate                                    389.34\n",
       "dtype: float64"
      ]
     },
     "execution_count": 30,
     "metadata": {},
     "output_type": "execute_result"
    }
   ],
   "source": [
    "# Display the result for the country selected per stressor\n",
    "e_fp_minerals.loc[:, country].sum(axis=1)"
   ]
  },
  {
   "cell_type": "code",
   "execution_count": 32,
   "metadata": {},
   "outputs": [
    {
     "data": {
      "text/plain": [
       "291457.8912295183"
      ]
     },
     "execution_count": 32,
     "metadata": {},
     "output_type": "execute_result"
    }
   ],
   "source": [
    "# Display the result for the country (sectors are aggregated)\n",
    "e_fp_agg_minerals_UK = e_fp_minerals.loc[:, country].sum(axis=1).sum()\n",
    "e_fp_agg_minerals_UK"
   ]
  },
  {
   "attachments": {},
   "cell_type": "markdown",
   "metadata": {},
   "source": [
    "## Questions 3: Trade (15 points)"
   ]
  },
  {
   "attachments": {},
   "cell_type": "markdown",
   "metadata": {},
   "source": [
    "### Q3.1: Based on Q1 & Q2, was the UK a net importer or net exporter of non-metallic minerals in 2016? (3 points)"
   ]
  },
  {
   "cell_type": "code",
   "execution_count": 37,
   "metadata": {},
   "outputs": [
    {
     "data": {
      "text/plain": [
       "87343.22407218683"
      ]
     },
     "execution_count": 37,
     "metadata": {},
     "output_type": "execute_result"
    }
   ],
   "source": [
    "e_fp_agg_minerals_UK - e_pba_agg_minerals_UK"
   ]
  },
  {
   "attachments": {},
   "cell_type": "markdown",
   "metadata": {},
   "source": [
    "The UK is a net imported importer of non-metallic mineral. In 2016, it imported over 87,343 kt of non-metallic minerals."
   ]
  },
  {
   "cell_type": "code",
   "execution_count": 61,
   "metadata": {},
   "outputs": [
    {
     "data": {
      "text/plain": [
       "87343.2240721868"
      ]
     },
     "execution_count": 61,
     "metadata": {},
     "output_type": "execute_result"
    }
   ],
   "source": [
    "# ALTERNATIVE CALCULATION METHOD\n",
    "f_minerals_agg = f.loc[MINERALS].sum()  # sum all minerals to have a vector (i.e. pd.Series)\n",
    "diagfLY_minerals_agg = f_minerals_agg * LY.T  # = diagf @ L @ Y\n",
    "diagfLY_minerals_agg = diagfLY_minerals_agg.T  # retranspose to conserve original layout\n",
    "\n",
    "# Compute embodied mineralls in trade \n",
    "embodied_minerals_trade = diagfLY_minerals_agg.groupby('region', axis=1).sum()\n",
    "embodied_minerals_trade = embodied_minerals_trade.groupby('region', axis=0).sum()\n",
    "embodied_minerals_trade = embodied_minerals_trade.reindex(index=region_labels, columns=region_labels)\n",
    "\n",
    "# Compute imported / exported emissions\n",
    "exports_minerals = embodied_minerals_trade.sum(axis=1)  # add columns to get exported emissions\n",
    "imports_minerals = embodied_minerals_trade.sum(axis=0)  # add rows to get imported emissions\n",
    "\n",
    "(imports_minerals - exports_minerals)[country]"
   ]
  },
  {
   "attachments": {},
   "cell_type": "markdown",
   "metadata": {},
   "source": [
    "### Q3.2: Perform MRIO calculation and identify the top three regions from which the UK imported non-metallic minerals in 2016 (12 points)"
   ]
  },
  {
   "cell_type": "code",
   "execution_count": 62,
   "metadata": {},
   "outputs": [
    {
     "data": {
      "text/plain": [
       "region\n",
       "GB   101,420.58\n",
       "IN    33,566.72\n",
       "CN    27,925.05\n",
       "WA    20,235.46\n",
       "Name: GB, dtype: float64"
      ]
     },
     "execution_count": 62,
     "metadata": {},
     "output_type": "execute_result"
    }
   ],
   "source": [
    "# top countries from which the UK imports its non-metallic minerals\n",
    "embodied_minerals_trade[country].nlargest(4)"
   ]
  },
  {
   "cell_type": "code",
   "execution_count": 63,
   "metadata": {},
   "outputs": [
    {
     "data": {
      "text/plain": [
       "<Axes: ylabel='GB'>"
      ]
     },
     "execution_count": 63,
     "metadata": {},
     "output_type": "execute_result"
    },
    {
     "data": {
      "image/png": "[encoded data removed]",
      "text/plain": [
       "<Figure size 600x400 with 1 Axes>"
      ]
     },
     "metadata": {},
     "output_type": "display_data"
    }
   ],
   "source": [
    "# show distribution of regional import of UK's need in non-metallic minerals\n",
    "embodied_minerals_trade[country].sort_values().plot(\n",
    "    figsize = (6,4),\n",
    "    kind = 'pie',\n",
    "    autopct = '%1.0f%%',\n",
    ")"
   ]
  },
  {
   "attachments": {},
   "cell_type": "markdown",
   "metadata": {},
   "source": [
    "## Question 4: Dashboard analysis - Non-metallic Minerals vs. Metal Ores (25 points)"
   ]
  },
  {
   "attachments": {},
   "cell_type": "markdown",
   "metadata": {},
   "source": [
    "### Q4.1 Quantify the reliance of the UK on each of the two global regions, EU27 and Non-EU27, in 2016 concerning Non-Metallic minerals and Metal Ores. (10 points)\n",
    "\n",
    "Hint 1: Replicate Qs 2-3 for metal ores\n",
    "\n",
    "Hint 2: use the environmental extensions with keywords: \"Domestic Extraction Used - Metal Ores\"\n",
    "\n",
    "Hint 3: remember that the first 27 regions in exiobase are the EU27\n",
    "\n",
    "Hint 4: use the last 21 countries/regions in exiobase for Non-EU27"
   ]
  },
  {
   "cell_type": "code",
   "execution_count": 42,
   "metadata": {},
   "outputs": [
    {
     "data": {
      "text/plain": [
       "Index(['Domestic Extraction Used - Metal Ores - Bauxite and aluminium ores',\n",
       "       'Domestic Extraction Used - Metal Ores - Copper ores',\n",
       "       'Domestic Extraction Used - Metal Ores - Gold ores',\n",
       "       'Domestic Extraction Used - Metal Ores - Iron ores',\n",
       "       'Domestic Extraction Used - Metal Ores - Lead ores',\n",
       "       'Domestic Extraction Used - Metal Ores - Nickel ores',\n",
       "       'Domestic Extraction Used - Metal Ores - Other non-ferrous metal ores',\n",
       "       'Domestic Extraction Used - Metal Ores - PGM ores',\n",
       "       'Domestic Extraction Used - Metal Ores - Silver ores',\n",
       "       'Domestic Extraction Used - Metal Ores - Tin ores',\n",
       "       'Domestic Extraction Used - Metal Ores - Uranium and thorium ores',\n",
       "       'Domestic Extraction Used - Metal Ores - Zinc ores'],\n",
       "      dtype='object', name='stressor')"
      ]
     },
     "execution_count": 42,
     "metadata": {},
     "output_type": "execute_result"
    }
   ],
   "source": [
    "MASK = f.index.str.contains(\"Domestic Extraction Used - Metal Ores\")\n",
    "METALS = f.loc[MASK].index\n",
    "\n",
    "# Display results\n",
    "METALS"
   ]
  },
  {
   "cell_type": "code",
   "execution_count": 44,
   "metadata": {},
   "outputs": [
    {
     "data": {
      "text/plain": [
       "array(['kt'], dtype=object)"
      ]
     },
     "execution_count": 44,
     "metadata": {},
     "output_type": "execute_result"
    }
   ],
   "source": [
    "# Check that every indicator has the same unit (kt)\n",
    "F_unit.loc[METALS]['unit'].unique()"
   ]
  },
  {
   "cell_type": "code",
   "execution_count": 51,
   "metadata": {},
   "outputs": [],
   "source": [
    "# Compute intermediary variables\n",
    "f_metals = f.loc[METALS]\n",
    "F_y_metals = F_y.loc[METALS]\n",
    "\n",
    "# compute domestic metal extraction for each country (per sector)\n",
    "diagfX_metals = f_metals * x  # f * x = np.diag(f) @ x\n",
    "\n",
    "# Compute domestic metals extraction fo each country (per sector)\n",
    "fLY_metals = f_metals @ LY "
   ]
  },
  {
   "cell_type": "code",
   "execution_count": 47,
   "metadata": {},
   "outputs": [
    {
     "data": {
      "text/plain": [
       "category\n",
       "Final consumption expenditure by households                                            0.00\n",
       "Final consumption expenditure by non-profit organisations serving households (NPISH)   0.00\n",
       "Final consumption expenditure by government                                            0.00\n",
       "Gross fixed capital formation                                                          0.00\n",
       "Changes in inventories                                                                 0.00\n",
       "Changes in valuables                                                                   0.00\n",
       "Exports: Total (fob)                                                                   0.00\n",
       "dtype: float64"
      ]
     },
     "execution_count": 47,
     "metadata": {},
     "output_type": "execute_result"
    }
   ],
   "source": [
    "# Check if F_y = 0 (for the country selected)\n",
    "F_y_metals.loc[:, country].sum()"
   ]
  },
  {
   "cell_type": "code",
   "execution_count": 52,
   "metadata": {},
   "outputs": [
    {
     "data": {
      "text/plain": [
       "stressor\n",
       "Domestic Extraction Used - Metal Ores - Bauxite and aluminium ores      0.00\n",
       "Domestic Extraction Used - Metal Ores - Copper ores                     0.00\n",
       "Domestic Extraction Used - Metal Ores - Gold ores                      17.64\n",
       "Domestic Extraction Used - Metal Ores - Iron ores                       0.00\n",
       "Domestic Extraction Used - Metal Ores - Lead ores                       0.28\n",
       "Domestic Extraction Used - Metal Ores - Nickel ores                     0.00\n",
       "Domestic Extraction Used - Metal Ores - Other non-ferrous metal ores    0.01\n",
       "Domestic Extraction Used - Metal Ores - PGM ores                        0.00\n",
       "Domestic Extraction Used - Metal Ores - Silver ores                     0.28\n",
       "Domestic Extraction Used - Metal Ores - Tin ores                        0.00\n",
       "Domestic Extraction Used - Metal Ores - Uranium and thorium ores        0.00\n",
       "Domestic Extraction Used - Metal Ores - Zinc ores                       0.00\n",
       "Name: GB, dtype: float64"
      ]
     },
     "execution_count": 52,
     "metadata": {},
     "output_type": "execute_result"
    }
   ],
   "source": [
    "# Display the results (pba) per stressor for the country selected (sectors are aggregated) \n",
    "diagfX_metals.groupby('region', axis=1).sum()[country]"
   ]
  },
  {
   "cell_type": "code",
   "execution_count": 53,
   "metadata": {},
   "outputs": [
    {
     "data": {
      "text/plain": [
       "18.205313967159146"
      ]
     },
     "execution_count": 53,
     "metadata": {},
     "output_type": "execute_result"
    }
   ],
   "source": [
    "# Aggregate the results\n",
    "e_pba_agg_metals_UK = diagfX_metals.groupby('region', axis=1).sum()[country].sum()\n",
    "e_pba_agg_metals_UK"
   ]
  },
  {
   "cell_type": "code",
   "execution_count": 48,
   "metadata": {},
   "outputs": [
    {
     "data": {
      "text/plain": [
       "stressor\n",
       "Domestic Extraction Used - Metal Ores - Bauxite and aluminium ores      1,585.12\n",
       "Domestic Extraction Used - Metal Ores - Copper ores                    15,983.78\n",
       "Domestic Extraction Used - Metal Ores - Gold ores                      28,780.76\n",
       "Domestic Extraction Used - Metal Ores - Iron ores                      16,989.28\n",
       "Domestic Extraction Used - Metal Ores - Lead ores                         674.28\n",
       "Domestic Extraction Used - Metal Ores - Nickel ores                     1,801.22\n",
       "Domestic Extraction Used - Metal Ores - Other non-ferrous metal ores    1,780.71\n",
       "Domestic Extraction Used - Metal Ores - PGM ores                          659.83\n",
       "Domestic Extraction Used - Metal Ores - Silver ores                     6,176.78\n",
       "Domestic Extraction Used - Metal Ores - Tin ores                        2,355.61\n",
       "Domestic Extraction Used - Metal Ores - Uranium and thorium ores          813.74\n",
       "Domestic Extraction Used - Metal Ores - Zinc ores                       2,906.19\n",
       "dtype: float64"
      ]
     },
     "execution_count": 48,
     "metadata": {},
     "output_type": "execute_result"
    }
   ],
   "source": [
    "# Compute Metals footprint\n",
    "e_fp_metals = fLY_metals + F_y_metals  # but F_y_metals = 0\n",
    "\n",
    "# Display the result for the country selected per stressor\n",
    "e_fp_metals.loc[:, country].sum(axis=1)"
   ]
  },
  {
   "cell_type": "code",
   "execution_count": 50,
   "metadata": {},
   "outputs": [
    {
     "data": {
      "text/plain": [
       "80507.28726799201"
      ]
     },
     "execution_count": 50,
     "metadata": {},
     "output_type": "execute_result"
    }
   ],
   "source": [
    "# Display the result for the country (sectors are aggregated)\n",
    "e_fp_agg_metals_UK = e_fp_metals.loc[:, country].sum(axis=1).sum()\n",
    "e_fp_agg_metals_UK"
   ]
  },
  {
   "cell_type": "code",
   "execution_count": 55,
   "metadata": {},
   "outputs": [
    {
     "data": {
      "text/plain": [
       "80489.08195402485"
      ]
     },
     "execution_count": 55,
     "metadata": {},
     "output_type": "execute_result"
    }
   ],
   "source": [
    "e_fp_agg_metals_UK - e_pba_agg_metals_UK"
   ]
  },
  {
   "attachments": {},
   "cell_type": "markdown",
   "metadata": {},
   "source": [
    "the UK barely extract any metals domestically, and  import almost everything (for an amount of 80,507 kt of metal ores)."
   ]
  },
  {
   "cell_type": "code",
   "execution_count": 64,
   "metadata": {},
   "outputs": [
    {
     "data": {
      "text/plain": [
       "80489.08195402486"
      ]
     },
     "execution_count": 64,
     "metadata": {},
     "output_type": "execute_result"
    }
   ],
   "source": [
    "# ALTERNATIVE CALCULATION METHOD\n",
    "f_metals_agg = f.loc[METALS].sum()  # sum all metals to have a vector (i.e. pd.Series)\n",
    "diagfLY_metals_agg = f_metals_agg * LY.T  # = diagf @ L @ Y\n",
    "diagfLY_metals_agg = diagfLY_metals_agg.T  # retranspose to conserve original layout\n",
    "\n",
    "# Compute embodied mineralls in trade\n",
    "embodied_metals_trade = diagfLY_metals_agg.groupby('region', axis=1).sum()\n",
    "embodied_metals_trade = embodied_metals_trade.groupby('region', axis=0).sum()\n",
    "embodied_metals_trade = embodied_metals_trade.reindex(index=region_labels, columns=region_labels)\n",
    "\n",
    "\n",
    "# Compute imported / exported emissions\n",
    "exports_metals = embodied_metals_trade.sum(axis=1)  # add columns to get exported emissions\n",
    "imports_metals = embodied_metals_trade.sum(axis=0)  # add rows to get imported emissions\n",
    "\n",
    "(imports_metals - exports_metals)[country]"
   ]
  },
  {
   "cell_type": "code",
   "execution_count": 65,
   "metadata": {},
   "outputs": [
    {
     "data": {
      "text/plain": [
       "<Axes: ylabel='GB'>"
      ]
     },
     "execution_count": 65,
     "metadata": {},
     "output_type": "execute_result"
    },
    {
     "data": {
      "image/png": "[encoded data removed]",
      "text/plain": [
       "<Figure size 600x400 with 1 Axes>"
      ]
     },
     "metadata": {},
     "output_type": "display_data"
    }
   ],
   "source": [
    "# show distribution of regional import of UK's need in metal ores\n",
    "embodied_metals_trade[country].sort_values().plot(\n",
    "    figsize = (6,4),\n",
    "    kind = 'pie',\n",
    "    autopct = '%1.0f%%',\n",
    ")"
   ]
  },
  {
   "cell_type": "code",
   "execution_count": 108,
   "metadata": {},
   "outputs": [
    {
     "data": {
      "text/html": [
       "<div>\n",
       "<style scoped>\n",
       "    .dataframe tbody tr th:only-of-type {\n",
       "        vertical-align: middle;\n",
       "    }\n",
       "\n",
       "    .dataframe tbody tr th {\n",
       "        vertical-align: top;\n",
       "    }\n",
       "\n",
       "    .dataframe thead th {\n",
       "        text-align: right;\n",
       "    }\n",
       "</style>\n",
       "<table border=\"1\" class=\"dataframe\">\n",
       "  <thead>\n",
       "    <tr style=\"text-align: right;\">\n",
       "      <th></th>\n",
       "      <th>Metals</th>\n",
       "      <th>Minerals</th>\n",
       "    </tr>\n",
       "  </thead>\n",
       "  <tbody>\n",
       "    <tr>\n",
       "      <th>EU27</th>\n",
       "      <td>11,991.24</td>\n",
       "      <td>58,738.84</td>\n",
       "    </tr>\n",
       "    <tr>\n",
       "      <th>Domestic</th>\n",
       "      <td>4.52</td>\n",
       "      <td>101,420.58</td>\n",
       "    </tr>\n",
       "    <tr>\n",
       "      <th>Non-EU</th>\n",
       "      <td>68,511.53</td>\n",
       "      <td>131,298.47</td>\n",
       "    </tr>\n",
       "  </tbody>\n",
       "</table>\n",
       "</div>"
      ],
      "text/plain": [
       "            Metals   Minerals\n",
       "EU27     11,991.24  58,738.84\n",
       "Domestic      4.52 101,420.58\n",
       "Non-EU   68,511.53 131,298.47"
      ]
     },
     "execution_count": 108,
     "metadata": {},
     "output_type": "execute_result"
    }
   ],
   "source": [
    "# Cluster region labels together\n",
    "clusters_regions = {\n",
    "    'EU27' : region_labels[:27],\n",
    "    'Domestic' : region_labels[27],\n",
    "    'Non-EU' : region_labels[28:],\n",
    "}\n",
    "\n",
    "# Create an empty dataframe\n",
    "df = pd.DataFrame(\n",
    "    data=np.nan, \n",
    "    index=clusters_regions.keys(), \n",
    "    columns=['Metals', 'Minerals'])\n",
    "\n",
    "# Fill in the dataframe\n",
    "for cluster, regions in clusters_regions.items():\n",
    "    df.loc[cluster, 'Metals'] = embodied_metals_trade.loc[regions, country].sum()\n",
    "    df.loc[cluster, 'Minerals'] = embodied_minerals_trade.loc[regions, country].sum()\n",
    "\n",
    "# Display results\n",
    "df"
   ]
  },
  {
   "cell_type": "code",
   "execution_count": 109,
   "metadata": {},
   "outputs": [
    {
     "data": {
      "text/plain": [
       "array([<Axes: ylabel='Metals'>, <Axes: ylabel='Minerals'>], dtype=object)"
      ]
     },
     "execution_count": 109,
     "metadata": {},
     "output_type": "execute_result"
    },
    {
     "data": {
      "image/png": "[encoded data removed]",
      "text/plain": [
       "<Figure size 1000x600 with 2 Axes>"
      ]
     },
     "metadata": {},
     "output_type": "display_data"
    }
   ],
   "source": [
    "df.plot(\n",
    "    subplots=True,\n",
    "    figsize = (10,6),\n",
    "    kind = 'pie',\n",
    "    autopct = '%1.0f%%',\n",
    "    legend=False,\n",
    ")"
   ]
  },
  {
   "attachments": {},
   "cell_type": "markdown",
   "metadata": {},
   "source": [
    "### Q4.2 Focusing on the two types of materials, describe three significantly different findings about the UK's material reliance on the EU27 vs the rest of the world. (15 points)\n",
    "\n",
    "The description for each finding should:\n",
    "\n",
    "1) be supported by numerical results you obtained from above calculations and based on comparisons of numerical results; \n",
    "\n",
    "2) contains your reflections about the UK's trade relationship in the context of BREXIT.\n"
   ]
  },
  {
   "cell_type": "code",
   "execution_count": 115,
   "metadata": {},
   "outputs": [
    {
     "name": "stdout",
     "output_type": "stream",
     "text": [
      "Mineral trade balance with EU -14631 kt\n",
      "Metal trade balance with EU -11985 kt\n"
     ]
    }
   ],
   "source": [
    "EU = clusters_regions['EU27']\n",
    "\n",
    "mineral_trade_with_EU = (embodied_minerals_trade.loc['GB', EU] - embodied_minerals_trade.loc[EU, 'GB']).sum()\n",
    "metal_trade_with_EU = (embodied_metals_trade.loc['GB', EU] - embodied_metals_trade.loc[EU, 'GB']).sum()\n",
    "\n",
    "\n",
    "print(f\"Mineral trade balance with EU {int(mineral_trade_with_EU)} kt\")\n",
    "print(f\"Metal trade balance with EU {int(metal_trade_with_EU)} kt\")"
   ]
  },
  {
   "cell_type": "code",
   "execution_count": 117,
   "metadata": {},
   "outputs": [
    {
     "name": "stdout",
     "output_type": "stream",
     "text": [
      "Mineral trade balance with non-EU -72712 kt\n",
      "Metal trade balance with non-EU -68503 kt\n"
     ]
    }
   ],
   "source": [
    "non_EU = clusters_regions['Non-EU']\n",
    "\n",
    "mineral_trade_with_nonEU = (embodied_minerals_trade.loc['GB', non_EU] - embodied_minerals_trade.loc[non_EU, 'GB']).sum()\n",
    "metal_trade_with_nonEU = (embodied_metals_trade.loc['GB', non_EU] - embodied_metals_trade.loc[non_EU, 'GB']).sum()\n",
    "\n",
    "\n",
    "print(f\"Mineral trade balance with non-EU {int(mineral_trade_with_nonEU)} kt\")\n",
    "print(f\"Metal trade balance with non-EU {int(metal_trade_with_nonEU)} kt\")"
   ]
  },
  {
   "attachments": {},
   "cell_type": "markdown",
   "metadata": {},
   "source": [
    "The heavy dependence of the UK on imports of metals and minerals is evident from our analysis, with the latter being less dependent on imports due to its larger domestic production (35% vs almost 0%). An examination of the UK's footprint reveals that the country's metals requirements cannot be met domestically, and other EU member states can only partially meet this demand, accounting for just 15% of the final consumption. However, for minerals, the UK supplies about 35% of its own needs, and another 20% is fulfilled by EU partners, although reliance on non-EU countries remains high, making up 45% of the final consumption. The trade balance is negative with both EU and non-EU countries for minerals and metals. \n",
    "\n",
    "This analysis suggests that, in light of the Brexit situation, it may be advantageous for the UK to prioritize trade agreements with non-European countries. As a result of its exit from the EU, the UK is now responsible for its own trade negotiations with non-EU countries, which affords the country greater flexibility in its approach to trade. This independence from the EU also allows the UK to select trade barriers and tariffs that are distinct from those imposed by the EU. This also means that competitions for resource between the UK and other EU countries could also increase in the future."
   ]
  }
 ],
 "metadata": {
  "celltoolbar": "Slideshow",
  "kernelspec": {
   "display_name": "Python 3 (ipykernel)",
   "language": "python",
   "name": "python3"
  },
  "language_info": {
   "codemirror_mode": {
    "name": "ipython",
    "version": 3
   },
   "file_extension": ".py",
   "mimetype": "text/x-python",
   "name": "python",
   "nbconvert_exporter": "python",
   "pygments_lexer": "ipython3",
   "version": "3.9.16"
  }
 },
 "nbformat": 4,
 "nbformat_minor": 4
}
