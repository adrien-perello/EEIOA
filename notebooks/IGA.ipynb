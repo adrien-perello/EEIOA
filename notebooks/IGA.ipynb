{
 "cells": [
  {
   "cell_type": "code",
   "execution_count": 1,
   "metadata": {
    "slideshow": {
     "slide_type": "slide"
    }
   },
   "outputs": [],
   "source": [
    "# Import packages\n",
    "import pandas as pd\n",
    "import numpy as np\n",
    "from scipy.linalg import inv\n",
    "\n",
    "# Set pandas number format\n",
    "np.set_printoptions(precision=6, suppress=True)\n"
   ]
  },
  {
   "attachments": {},
   "cell_type": "markdown",
   "metadata": {},
   "source": [
    "Example taken from:\n",
    "\n",
    "Çetinay, H., Donati, F., Heijungs, R., & Sprecher, B. (2020). Efficient computation of environmentally extended input–output scenario and circular economy modeling. Journal of Industrial Ecology, 24(5), 976–985. https://doi.org/10.1111/jiec.13013\n"
   ]
  },
  {
   "cell_type": "code",
   "execution_count": 2,
   "metadata": {},
   "outputs": [],
   "source": [
    "A = np.array(\n",
    "    [\n",
    "        [0.0008, 0.0074, 0.0015, 0.0078, 0.0032, 0.0052],\n",
    "        [0.0025, 0.0014, 0.0091, 0.0069, 0.0091, 0.0063],\n",
    "        [0.0081, 0.0044, 0.0064, 0.0047, 0.0089, 0.0091],\n",
    "        [0.0008, 0.0035, 0.0016, 0.0026, 0.0079, 0.0066],\n",
    "        [0.0053, 0.0048, 0.0057, 0.0057, 0.0093, 0.0039],\n",
    "        [0.0080, 0.0059, 0.0093, 0.0025, 0.0018, 0.0074],\n",
    "    ],\n",
    ")\n",
    "\n",
    "Y = np.array([0.1188, 0.3800, 0.8128, 0.2440, 0.8844, 0.7126])\n",
    "\n",
    "bT = np.array([0.8176, 0.6003, 0.849, 0.9223, 0.9476, 0.5270])\n",
    "\n",
    "change_pct = np.array(\n",
    "    [\n",
    "        [0, 0, 0, 0, 0, 0],\n",
    "        [-0.25, 0, 0, 0, -0.25, 0],\n",
    "        [0, 0, 0, 0.05, 0, 0],\n",
    "        [0.35, 0, 0, 0, 0, 0],\n",
    "        [0.11, 0, 0, 0, 0, 0],\n",
    "        [0, 0, 0, -0.03, 0.43, 0],\n",
    "    ],\n",
    ")\n",
    "\n",
    "I = np.identity(len(A))\n",
    "\n",
    "\n",
    "def decompose(A, change):\n",
    "    MASK = np.any(change, axis=0)\n",
    "    u = A[:, MASK]\n",
    "    vT = np.identity(len(A))[MASK]\n",
    "    return u, vT\n"
   ]
  },
  {
   "attachments": {},
   "cell_type": "markdown",
   "metadata": {},
   "source": [
    "$$A⁺ - A = \\Delta A = UV^T$$\n"
   ]
  },
  {
   "cell_type": "code",
   "execution_count": 3,
   "metadata": {},
   "outputs": [
    {
     "name": "stdout",
     "output_type": "stream",
     "text": [
      "[[ 0.        0.        0.        0.        0.        0.      ]\n",
      " [-0.000625  0.        0.        0.       -0.002275  0.      ]\n",
      " [ 0.        0.        0.        0.000235  0.        0.      ]\n",
      " [ 0.00028   0.        0.        0.        0.        0.      ]\n",
      " [ 0.000583  0.        0.        0.        0.        0.      ]\n",
      " [ 0.        0.        0.       -0.000075  0.000774  0.      ]] \n",
      "\n",
      "[[0.0008   0.0074   0.0015   0.0078   0.0032   0.0052  ]\n",
      " [0.001875 0.0014   0.0091   0.0069   0.006825 0.0063  ]\n",
      " [0.0081   0.0044   0.0064   0.004935 0.0089   0.0091  ]\n",
      " [0.00108  0.0035   0.0016   0.0026   0.0079   0.0066  ]\n",
      " [0.005883 0.0048   0.0057   0.0057   0.0093   0.0039  ]\n",
      " [0.008    0.0059   0.0093   0.002425 0.002574 0.0074  ]]\n"
     ]
    }
   ],
   "source": [
    "Adelta = A * change_pct\n",
    "print(Adelta, \"\\n\")\n",
    "\n",
    "Astar = Adelta + A\n",
    "print(Astar)\n"
   ]
  },
  {
   "attachments": {},
   "cell_type": "markdown",
   "metadata": {},
   "source": [
    "$$u = \\sum_i{\\Delta a_{ik}e_i} - \\sum_j{\\Delta a_{jk}e_j}$$\n",
    "$$v = e_k$$\n"
   ]
  },
  {
   "cell_type": "code",
   "execution_count": 4,
   "metadata": {},
   "outputs": [
    {
     "name": "stdout",
     "output_type": "stream",
     "text": [
      "[[ 0.        0.        0.      ]\n",
      " [-0.000625  0.       -0.002275]\n",
      " [ 0.        0.000235  0.      ]\n",
      " [ 0.00028   0.        0.      ]\n",
      " [ 0.000583  0.        0.      ]\n",
      " [ 0.       -0.000075  0.000774]] \n",
      "\n",
      "[[1. 0. 0. 0. 0. 0.]\n",
      " [0. 0. 0. 1. 0. 0.]\n",
      " [0. 0. 0. 0. 1. 0.]] \n",
      "\n"
     ]
    },
    {
     "data": {
      "text/plain": [
       "True"
      ]
     },
     "execution_count": 4,
     "metadata": {},
     "output_type": "execute_result"
    }
   ],
   "source": [
    "U, VT = decompose(Adelta, change_pct)\n",
    "\n",
    "print(U, \"\\n\")\n",
    "print(VT, \"\\n\")\n",
    "\n",
    "np.allclose(Adelta, U @ VT)\n"
   ]
  },
  {
   "cell_type": "code",
   "execution_count": 5,
   "metadata": {},
   "outputs": [
    {
     "name": "stdout",
     "output_type": "stream",
     "text": [
      "[[1.0009   0.0075   0.001662 0.00792  0.00339  0.005372]\n",
      " [0.002689 1.001571 0.009303 0.007064 0.00936  0.00654 ]\n",
      " [0.008299 0.004614 1.006644 0.004916 0.009169 0.00937 ]\n",
      " [0.000923 0.003608 0.001758 1.00271  0.00806  0.006743]\n",
      " [0.005453 0.004964 0.005893 0.005885 1.009558 0.00412 ]\n",
      " [0.008173 0.006075 0.009515 0.002688 0.00202  1.00765 ]] \n",
      "\n",
      "[[1.0009   0.0075   0.001662 0.00792  0.003377 0.005372]\n",
      " [0.002056 1.001555 0.009289 0.007047 0.007063 0.006527]\n",
      " [0.008304 0.004614 1.006645 0.005153 0.009167 0.009372]\n",
      " [0.001206 0.00361  0.001759 1.002712 0.008058 0.006744]\n",
      " [0.00604  0.004968 0.005894 0.00589  1.009552 0.004123]\n",
      " [0.008176 0.006079 0.00952  0.002619 0.002793 1.007652]]\n"
     ]
    }
   ],
   "source": [
    "L = inv(I - A)\n",
    "print(L, \"\\n\")\n",
    "\n",
    "Lstar = inv(I - Astar)\n",
    "print(Lstar)\n"
   ]
  },
  {
   "attachments": {},
   "cell_type": "markdown",
   "metadata": {},
   "source": [
    "$$L^+ = ((I - A) - UV^T)^{-1} = L + LU(I - V^TLU)^{-1}V^TL$$"
   ]
  },
  {
   "cell_type": "code",
   "execution_count": 6,
   "metadata": {},
   "outputs": [
    {
     "name": "stdout",
     "output_type": "stream",
     "text": [
      "[[1.0009   0.0075   0.001662 0.00792  0.003377 0.005372]\n",
      " [0.002056 1.001555 0.009289 0.007047 0.007063 0.006527]\n",
      " [0.008304 0.004614 1.006645 0.005153 0.009167 0.009372]\n",
      " [0.001206 0.00361  0.001759 1.002712 0.008058 0.006744]\n",
      " [0.00604  0.004968 0.005894 0.00589  1.009552 0.004123]\n",
      " [0.008176 0.006079 0.00952  0.002619 0.002793 1.007652]] \n",
      "\n"
     ]
    },
    {
     "data": {
      "text/plain": [
       "True"
      ]
     },
     "execution_count": 6,
     "metadata": {},
     "output_type": "execute_result"
    }
   ],
   "source": [
    "LU = L @ U\n",
    "VTL = VT @ L\n",
    "VTLU = VTL @ U\n",
    "I_3 = np.identity(len(VT))\n",
    "\n",
    "res = L + LU @ inv(I_3 - VTLU) @ VTL\n",
    "print(res, \"\\n\")\n",
    "\n",
    "np.allclose(Lstar, res)\n"
   ]
  },
  {
   "attachments": {},
   "cell_type": "markdown",
   "metadata": {},
   "source": [
    "$$x^+ = L^+y = Ly + LU(I - V^TLU)^{-1} V^TLy$$\n",
    "$$\\Delta x = LU(I - V^TLU)^{-1} V^TLy$$\n"
   ]
  },
  {
   "cell_type": "code",
   "execution_count": 7,
   "metadata": {},
   "outputs": [
    {
     "data": {
      "text/plain": [
       "array([-0.000012, -0.002138,  0.000059,  0.000035,  0.00007 ,  0.000674])"
      ]
     },
     "execution_count": 7,
     "metadata": {},
     "output_type": "execute_result"
    }
   ],
   "source": [
    "xdelta = LU @ inv(I_3 - VTLU) @ VTL @ Y\n",
    "xdelta\n"
   ]
  },
  {
   "attachments": {},
   "cell_type": "markdown",
   "metadata": {},
   "source": [
    "$$r^+ = b^T(I - A^+)^{-1} y = b^T(I - A - \\Delta A)^{-1} y$$\n",
    "\n",
    "$$\\Delta r = b^T \\Delta x = b^T  LU(I - V^TLU)^{-1} V^TLy$$\n"
   ]
  },
  {
   "cell_type": "code",
   "execution_count": 8,
   "metadata": {},
   "outputs": [
    {
     "data": {
      "text/plain": [
       "-0.0007893352252489563"
      ]
     },
     "execution_count": 8,
     "metadata": {},
     "output_type": "execute_result"
    }
   ],
   "source": [
    "rdelta = bT @ xdelta\n",
    "rdelta"
   ]
  },
  {
   "cell_type": "code",
   "execution_count": 9,
   "metadata": {},
   "outputs": [
    {
     "data": {
      "text/plain": [
       "-0.0007893352252494878"
      ]
     },
     "execution_count": 9,
     "metadata": {},
     "output_type": "execute_result"
    }
   ],
   "source": [
    "bT @ Lstar @ Y - bT @ L @ Y"
   ]
  }
 ],
 "metadata": {
  "celltoolbar": "Slideshow",
  "kernelspec": {
   "display_name": "Python 3 (ipykernel)",
   "language": "python",
   "name": "python3"
  },
  "language_info": {
   "codemirror_mode": {
    "name": "ipython",
    "version": 3
   },
   "file_extension": ".py",
   "mimetype": "text/x-python",
   "name": "python",
   "nbconvert_exporter": "python",
   "pygments_lexer": "ipython3",
   "version": "3.11.3"
  }
 },
 "nbformat": 4,
 "nbformat_minor": 2
}
